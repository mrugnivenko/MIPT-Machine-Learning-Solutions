{
  "nbformat": 4,
  "nbformat_minor": 0,
  "metadata": {
    "anaconda-cloud": {},
    "colab": {
      "name": "homework.ipynb",
      "provenance": [],
      "collapsed_sections": [],
      "machine_shape": "hm"
    },
    "kernelspec": {
      "display_name": "Py3 research env",
      "language": "python",
      "name": "py3_research"
    },
    "language_info": {
      "codemirror_mode": {
        "name": "ipython",
        "version": 3
      },
      "file_extension": ".py",
      "mimetype": "text/x-python",
      "name": "python",
      "nbconvert_exporter": "python",
      "pygments_lexer": "ipython3",
      "version": "3.6.7"
    }
  },
  "cells": [
    {
      "cell_type": "markdown",
      "metadata": {
        "colab_type": "text",
        "id": "eulvfJWl7ueY"
      },
      "source": [
        "# Lab 1\n",
        "\n",
        "\n",
        "## Part 1: Bilingual dictionary induction and unsupervised embedding-based MT (30%)\n",
        "*Note: this homework is based on materials from yandexdataschool [NLP course](https://github.com/yandexdataschool/nlp_course/). Feel free to check this awesome course if you wish to dig deeper.*\n",
        "\n",
        "*Refined by [Nikolay Karpachev](https://www.linkedin.com/in/nikolay-karpachev-b0146a104/)*"
      ]
    },
    {
      "cell_type": "markdown",
      "metadata": {
        "colab_type": "text",
        "id": "fV4rIjxa7uei"
      },
      "source": [
        "**In this homework** **<font color='red'>YOU</font>** will make machine translation system without using parallel corpora, alignment, attention, 100500 depth super-cool recurrent neural network and all that kind superstuff.\n",
        "\n",
        "But even without parallel corpora this system can be good enough (hopefully), in particular for similar languages, e.g. Ukrainian and Russian. "
      ]
    },
    {
      "cell_type": "markdown",
      "metadata": {
        "colab_type": "text",
        "id": "idSYq2GU7uew"
      },
      "source": [
        "### Frament of the Swadesh list for some slavic languages\n",
        "\n",
        "The Swadesh list is a lexicostatistical stuff. It's named after American linguist Morris Swadesh and contains basic lexis. This list are used to define subgroupings of languages, its relatedness.\n",
        "\n",
        "So we can see some kind of word invariance for different Slavic languages.\n",
        "\n",
        "\n",
        "| Russian         | Belorussian              | Ukrainian               | Polish             | Czech                         | Bulgarian            |\n",
        "|-----------------|--------------------------|-------------------------|--------------------|-------------------------------|-----------------------|\n",
        "| женщина         | жанчына, кабета, баба    | жінка                   | kobieta            | žena                          | жена                  |\n",
        "| мужчина         | мужчына                  | чоловік, мужчина        | mężczyzna          | muž                           | мъж                   |\n",
        "| человек         | чалавек                  | людина, чоловік         | człowiek           | člověk                        | човек                 |\n",
        "| ребёнок, дитя   | дзіця, дзіцёнак, немаўля | дитина, дитя            | dziecko            | dítě                          | дете                  |\n",
        "| жена            | жонка                    | дружина, жінка          | żona               | žena, manželka, choť          | съпруга, жена         |\n",
        "| муж             | муж, гаспадар            | чоловiк, муж            | mąż                | muž, manžel, choť             | съпруг, мъж           |\n",
        "| мать, мама      | маці, матка              | мати, матір, неня, мама | matka              | matka, máma, 'стар.' mateř    | майка                 |\n",
        "| отец, тятя      | бацька, тата             | батько, тато, татусь    | ojciec             | otec                          | баща, татко           |\n",
        "| много           | шмат, багата             | багато                  | wiele              | mnoho, hodně                  | много                 |\n",
        "| несколько       | некалькі, колькі         | декілька, кілька        | kilka              | několik, pár, trocha          | няколко               |\n",
        "| другой, иной    | іншы                     | інший                   | inny               | druhý, jiný                   | друг                  |\n",
        "| зверь, животное | жывёла, звер, істота     | тварина, звір           | zwierzę            | zvíře                         | животно               |\n",
        "| рыба            | рыба                     | риба                    | ryba               | ryba                          | риба                  |\n",
        "| птица           | птушка                   | птах, птиця             | ptak               | pták                          | птица                 |\n",
        "| собака, пёс     | сабака                   | собака, пес             | pies               | pes                           | куче, пес             |\n",
        "| вошь            | вош                      | воша                    | wesz               | veš                           | въшка                 |\n",
        "| змея, гад       | змяя                     | змія, гад               | wąż                | had                           | змия                  |\n",
        "| червь, червяк   | чарвяк                   | хробак, черв'як         | robak              | červ                          | червей                |\n",
        "| дерево          | дрэва                    | дерево                  | drzewo             | strom, dřevo                  | дърво                 |\n",
        "| лес             | лес                      | ліс                     | las                | les                           | гора, лес             |\n",
        "| палка           | кій, палка               | палиця                  | patyk, pręt, pałka | hůl, klacek, prut, kůl, pálka | палка, пръчка, бастун |"
      ]
    },
    {
      "cell_type": "markdown",
      "metadata": {
        "colab_type": "text",
        "id": "cNM3_fjr7ue2"
      },
      "source": [
        "But the context distribution of these languages demonstrates even more invariance. And we can use this fact for our for our purposes."
      ]
    },
    {
      "cell_type": "markdown",
      "metadata": {
        "colab_type": "text",
        "id": "YLppwa527ue6"
      },
      "source": [
        "## Data"
      ]
    },
    {
      "cell_type": "code",
      "metadata": {
        "colab_type": "code",
        "id": "lYBGKAUn7ue_",
        "colab": {}
      },
      "source": [
        "import gensim\n",
        "import numpy as np\n",
        "from gensim.models import KeyedVectors"
      ],
      "execution_count": 0,
      "outputs": []
    },
    {
      "cell_type": "markdown",
      "metadata": {
        "colab_type": "text",
        "id": "MwGoVhRA7ufP"
      },
      "source": [
        "In this notebook we're going to use pretrained word vectors - FastText (original paper - https://arxiv.org/abs/1607.04606).\n",
        "\n",
        "You can download them from the official [website](https://fasttext.cc/docs/en/crawl-vectors.html). We're going to need embeddings for Russian and Ukrainian languages. Please use word2vec-compatible format (.text)."
      ]
    },
    {
      "cell_type": "markdown",
      "metadata": {
        "id": "jAl4R9LieFBt",
        "colab_type": "text"
      },
      "source": [
        "##Installing fastText\n"
      ]
    },
    {
      "cell_type": "code",
      "metadata": {
        "id": "YZUX2ETqN01g",
        "colab_type": "code",
        "colab": {
          "base_uri": "https://localhost:8080/",
          "height": 34
        },
        "outputId": "e70cb149-0dd0-42ea-e3ee-7364b72cb58e"
      },
      "source": [
        "!git clone https://github.com/facebookresearch/fastText.git"
      ],
      "execution_count": 2,
      "outputs": [
        {
          "output_type": "stream",
          "text": [
            "fatal: destination path 'fastText' already exists and is not an empty directory.\n"
          ],
          "name": "stdout"
        }
      ]
    },
    {
      "cell_type": "code",
      "metadata": {
        "id": "15FtE_biN4Wx",
        "colab_type": "code",
        "colab": {
          "base_uri": "https://localhost:8080/",
          "height": 275
        },
        "outputId": "f6058bf6-a23e-4782-ae57-2f0ef59d5bc0"
      },
      "source": [
        "!pip install fastText/."
      ],
      "execution_count": 3,
      "outputs": [
        {
          "output_type": "stream",
          "text": [
            "Processing ./fastText\n",
            "Requirement already satisfied: pybind11>=2.2 in /usr/local/lib/python3.6/dist-packages (from fasttext==0.9.1) (2.4.3)\n",
            "Requirement already satisfied: setuptools>=0.7.0 in /usr/local/lib/python3.6/dist-packages (from fasttext==0.9.1) (45.2.0)\n",
            "Requirement already satisfied: numpy in /usr/local/lib/python3.6/dist-packages (from fasttext==0.9.1) (1.17.5)\n",
            "Building wheels for collected packages: fasttext\n",
            "  Building wheel for fasttext (setup.py) ... \u001b[?25l\u001b[?25hdone\n",
            "  Created wheel for fasttext: filename=fasttext-0.9.1-cp36-cp36m-linux_x86_64.whl size=2856428 sha256=0faaf803b2394a93398981a23bd8562363291fa2f9c846f6a5f9809d67d9fde2\n",
            "  Stored in directory: /tmp/pip-ephem-wheel-cache-orwas5jy/wheels/a1/9f/52/696ce6c5c46325e840c76614ee5051458c0df10306987e7443\n",
            "Successfully built fasttext\n",
            "Installing collected packages: fasttext\n",
            "  Found existing installation: fasttext 0.9.1\n",
            "    Uninstalling fasttext-0.9.1:\n",
            "      Successfully uninstalled fasttext-0.9.1\n",
            "Successfully installed fasttext-0.9.1\n"
          ],
          "name": "stdout"
        }
      ]
    },
    {
      "cell_type": "code",
      "metadata": {
        "id": "847l5g66Na7V",
        "colab_type": "code",
        "colab": {}
      },
      "source": [
        "import fasttext.util"
      ],
      "execution_count": 0,
      "outputs": []
    },
    {
      "cell_type": "markdown",
      "metadata": {
        "id": "7L4ztXgUeUAi",
        "colab_type": "text"
      },
      "source": [
        "##Download data\n"
      ]
    },
    {
      "cell_type": "code",
      "metadata": {
        "id": "kS1jl0n0dApr",
        "colab_type": "code",
        "colab": {
          "base_uri": "https://localhost:8080/",
          "height": 204
        },
        "outputId": "0e0d415d-8c4c-40a4-933d-620f9e01dd95"
      },
      "source": [
        "!wget -O cc.ru.300.vec.gz https://dl.fbaipublicfiles.com/fasttext/vectors-crawl/cc.ru.300.vec.gz"
      ],
      "execution_count": 22,
      "outputs": [
        {
          "output_type": "stream",
          "text": [
            "--2020-03-13 15:14:27--  https://dl.fbaipublicfiles.com/fasttext/vectors-crawl/cc.ru.300.vec.gz\n",
            "Resolving dl.fbaipublicfiles.com (dl.fbaipublicfiles.com)... 104.20.6.166, 104.20.22.166, 2606:4700:10::6814:6a6, ...\n",
            "Connecting to dl.fbaipublicfiles.com (dl.fbaipublicfiles.com)|104.20.6.166|:443... connected.\n",
            "HTTP request sent, awaiting response... 200 OK\n",
            "Length: 1306357571 (1.2G) [binary/octet-stream]\n",
            "Saving to: ‘cc.ru.300.vec.gz’\n",
            "\n",
            "cc.ru.300.vec.gz    100%[===================>]   1.22G  30.0MB/s    in 42s     \n",
            "\n",
            "2020-03-13 15:15:10 (29.6 MB/s) - ‘cc.ru.300.vec.gz’ saved [1306357571/1306357571]\n",
            "\n"
          ],
          "name": "stdout"
        }
      ]
    },
    {
      "cell_type": "code",
      "metadata": {
        "id": "vyW60gAddB2W",
        "colab_type": "code",
        "colab": {}
      },
      "source": [
        "!gzip -d cc.ru.300.vec.gz"
      ],
      "execution_count": 0,
      "outputs": []
    },
    {
      "cell_type": "code",
      "metadata": {
        "id": "EG1K5Y7-d1wo",
        "colab_type": "code",
        "colab": {
          "base_uri": "https://localhost:8080/",
          "height": 204
        },
        "outputId": "2e3b5360-6111-42ae-cd71-dabf48aac94f"
      },
      "source": [
        "!wget -O cc.uk.300.vec.gz https://dl.fbaipublicfiles.com/fasttext/vectors-crawl/cc.uk.300.vec.gz"
      ],
      "execution_count": 24,
      "outputs": [
        {
          "output_type": "stream",
          "text": [
            "--2020-03-13 15:16:37--  https://dl.fbaipublicfiles.com/fasttext/vectors-crawl/cc.uk.300.vec.gz\n",
            "Resolving dl.fbaipublicfiles.com (dl.fbaipublicfiles.com)... 104.20.6.166, 104.20.22.166, 2606:4700:10::6814:16a6, ...\n",
            "Connecting to dl.fbaipublicfiles.com (dl.fbaipublicfiles.com)|104.20.6.166|:443... connected.\n",
            "HTTP request sent, awaiting response... 200 OK\n",
            "Length: 1257595219 (1.2G) [binary/octet-stream]\n",
            "Saving to: ‘cc.uk.300.vec.gz’\n",
            "\n",
            "cc.uk.300.vec.gz    100%[===================>]   1.17G  29.4MB/s    in 41s     \n",
            "\n",
            "2020-03-13 15:17:20 (28.9 MB/s) - ‘cc.uk.300.vec.gz’ saved [1257595219/1257595219]\n",
            "\n"
          ],
          "name": "stdout"
        }
      ]
    },
    {
      "cell_type": "code",
      "metadata": {
        "id": "QidrBI6HeAaN",
        "colab_type": "code",
        "colab": {}
      },
      "source": [
        "!gzip -d cc.uk.300.vec.gz"
      ],
      "execution_count": 0,
      "outputs": []
    },
    {
      "cell_type": "markdown",
      "metadata": {
        "id": "Ourm4X0-elS5",
        "colab_type": "text"
      },
      "source": [
        "##Let's play with data and build model"
      ]
    },
    {
      "cell_type": "code",
      "metadata": {
        "colab_type": "code",
        "id": "u1JjQv_97ufT",
        "colab": {
          "base_uri": "https://localhost:8080/",
          "height": 71
        },
        "outputId": "a9a54dfa-d0c9-492c-cf74-1493988d1365"
      },
      "source": [
        "uk_emb = KeyedVectors.load_word2vec_format(\"cc.uk.300.vec\")"
      ],
      "execution_count": 4,
      "outputs": [
        {
          "output_type": "stream",
          "text": [
            "/usr/local/lib/python3.6/dist-packages/smart_open/smart_open_lib.py:402: UserWarning: This function is deprecated, use smart_open.open instead. See the migration notes for details: https://github.com/RaRe-Technologies/smart_open/blob/master/README.rst#migrating-to-the-new-open-function\n",
            "  'See the migration notes for details: %s' % _MIGRATION_NOTES_URL\n"
          ],
          "name": "stderr"
        }
      ]
    },
    {
      "cell_type": "code",
      "metadata": {
        "colab_type": "code",
        "id": "ffzuept_7ufd",
        "colab": {
          "base_uri": "https://localhost:8080/",
          "height": 71
        },
        "outputId": "054985bf-4c9e-49b9-e270-7c16fd76746f"
      },
      "source": [
        "ru_emb = KeyedVectors.load_word2vec_format(\"cc.ru.300.vec\")"
      ],
      "execution_count": 5,
      "outputs": [
        {
          "output_type": "stream",
          "text": [
            "/usr/local/lib/python3.6/dist-packages/smart_open/smart_open_lib.py:402: UserWarning: This function is deprecated, use smart_open.open instead. See the migration notes for details: https://github.com/RaRe-Technologies/smart_open/blob/master/README.rst#migrating-to-the-new-open-function\n",
            "  'See the migration notes for details: %s' % _MIGRATION_NOTES_URL\n"
          ],
          "name": "stderr"
        }
      ]
    },
    {
      "cell_type": "code",
      "metadata": {
        "colab_type": "code",
        "id": "nTkXfT0W7ufk",
        "colab": {
          "base_uri": "https://localhost:8080/",
          "height": 241
        },
        "outputId": "420a2b61-ea72-446d-d451-81d1454b0ee8"
      },
      "source": [
        "ru_emb.most_similar([ru_emb[\"август\"]], topn=10)"
      ],
      "execution_count": 6,
      "outputs": [
        {
          "output_type": "stream",
          "text": [
            "/usr/local/lib/python3.6/dist-packages/gensim/matutils.py:737: FutureWarning: Conversion of the second argument of issubdtype from `int` to `np.signedinteger` is deprecated. In future, it will be treated as `np.int64 == np.dtype(int).type`.\n",
            "  if np.issubdtype(vec.dtype, np.int):\n"
          ],
          "name": "stderr"
        },
        {
          "output_type": "execute_result",
          "data": {
            "text/plain": [
              "[('август', 1.0),\n",
              " ('июль', 0.9383153915405273),\n",
              " ('сентябрь', 0.9240028858184814),\n",
              " ('июнь', 0.9222575426101685),\n",
              " ('октябрь', 0.9095538854598999),\n",
              " ('ноябрь', 0.8930036425590515),\n",
              " ('апрель', 0.8729087114334106),\n",
              " ('декабрь', 0.8652557730674744),\n",
              " ('март', 0.8545796275138855),\n",
              " ('февраль', 0.8401416540145874)]"
            ]
          },
          "metadata": {
            "tags": []
          },
          "execution_count": 6
        }
      ]
    },
    {
      "cell_type": "code",
      "metadata": {
        "colab_type": "code",
        "id": "vdBA8lcg7ufs",
        "colab": {
          "base_uri": "https://localhost:8080/",
          "height": 241
        },
        "outputId": "a055d7a3-4b6f-4b54-d4de-f3fb262ecf12"
      },
      "source": [
        "uk_emb.most_similar([uk_emb[\"серпень\"]])"
      ],
      "execution_count": 7,
      "outputs": [
        {
          "output_type": "stream",
          "text": [
            "/usr/local/lib/python3.6/dist-packages/gensim/matutils.py:737: FutureWarning: Conversion of the second argument of issubdtype from `int` to `np.signedinteger` is deprecated. In future, it will be treated as `np.int64 == np.dtype(int).type`.\n",
            "  if np.issubdtype(vec.dtype, np.int):\n"
          ],
          "name": "stderr"
        },
        {
          "output_type": "execute_result",
          "data": {
            "text/plain": [
              "[('серпень', 0.9999999403953552),\n",
              " ('липень', 0.9096440076828003),\n",
              " ('вересень', 0.901697039604187),\n",
              " ('червень', 0.8992519378662109),\n",
              " ('жовтень', 0.8810408711433411),\n",
              " ('листопад', 0.8787633776664734),\n",
              " ('квітень', 0.8592804670333862),\n",
              " ('грудень', 0.8586863279342651),\n",
              " ('травень', 0.8408110737800598),\n",
              " ('лютий', 0.8256431818008423)]"
            ]
          },
          "metadata": {
            "tags": []
          },
          "execution_count": 7
        }
      ]
    },
    {
      "cell_type": "code",
      "metadata": {
        "colab_type": "code",
        "id": "_yJvcKXO7uf0",
        "colab": {
          "base_uri": "https://localhost:8080/",
          "height": 241
        },
        "outputId": "93036dba-1ec3-4ed9-ce7f-6ef2e538f727"
      },
      "source": [
        "ru_emb.most_similar([uk_emb[\"серпень\"]])"
      ],
      "execution_count": 8,
      "outputs": [
        {
          "output_type": "stream",
          "text": [
            "/usr/local/lib/python3.6/dist-packages/gensim/matutils.py:737: FutureWarning: Conversion of the second argument of issubdtype from `int` to `np.signedinteger` is deprecated. In future, it will be treated as `np.int64 == np.dtype(int).type`.\n",
            "  if np.issubdtype(vec.dtype, np.int):\n"
          ],
          "name": "stderr"
        },
        {
          "output_type": "execute_result",
          "data": {
            "text/plain": [
              "[('Stepashka.com', 0.2757962942123413),\n",
              " ('ЖИЗНИВадим', 0.25203436613082886),\n",
              " ('2Дмитрий', 0.25048112869262695),\n",
              " ('2012Дмитрий', 0.24829231202602386),\n",
              " ('Ведущий-Алексей', 0.2443869560956955),\n",
              " ('Недопустимость', 0.24435284733772278),\n",
              " ('2Михаил', 0.23981399834156036),\n",
              " ('лексей', 0.23740756511688232),\n",
              " ('комплексн', 0.23695150017738342),\n",
              " ('персональ', 0.2368222028017044)]"
            ]
          },
          "metadata": {
            "tags": []
          },
          "execution_count": 8
        }
      ]
    },
    {
      "cell_type": "markdown",
      "metadata": {
        "colab_type": "text",
        "id": "pNdYAR1q7uf6"
      },
      "source": [
        "Load small dictionaries for correspoinding words pairs as trainset and testset."
      ]
    },
    {
      "cell_type": "code",
      "metadata": {
        "colab_type": "code",
        "id": "35d_DAK67uf8",
        "colab": {}
      },
      "source": [
        "def load_word_pairs(filename):\n",
        "    uk_ru_pairs = []\n",
        "    uk_vectors = []\n",
        "    ru_vectors = []\n",
        "    with open(filename, \"r\") as inpf:\n",
        "        for line in inpf:\n",
        "            uk, ru = line.rstrip().split(\"\\t\")\n",
        "            if uk not in uk_emb or ru not in ru_emb:\n",
        "                continue\n",
        "            uk_ru_pairs.append((uk, ru))\n",
        "            uk_vectors.append(uk_emb[uk])\n",
        "            ru_vectors.append(ru_emb[ru])\n",
        "    return uk_ru_pairs, np.array(uk_vectors), np.array(ru_vectors)"
      ],
      "execution_count": 0,
      "outputs": []
    },
    {
      "cell_type": "code",
      "metadata": {
        "colab_type": "code",
        "id": "wkNL602WHJyO",
        "colab": {
          "base_uri": "https://localhost:8080/",
          "height": 377
        },
        "outputId": "ffbc77c6-2288-4695-98ac-ab10708f46e7"
      },
      "source": [
        "!wget -O ukr_rus.train.txt http://tiny.cc/jfgecz"
      ],
      "execution_count": 10,
      "outputs": [
        {
          "output_type": "stream",
          "text": [
            "--2020-03-13 18:55:44--  http://tiny.cc/jfgecz\n",
            "Resolving tiny.cc (tiny.cc)... 192.241.240.89\n",
            "Connecting to tiny.cc (tiny.cc)|192.241.240.89|:80... connected.\n",
            "HTTP request sent, awaiting response... 301 Moved Permanently\n",
            "Location: https://tiny.cc/jfgecz [following]\n",
            "--2020-03-13 18:55:44--  https://tiny.cc/jfgecz\n",
            "Connecting to tiny.cc (tiny.cc)|192.241.240.89|:443... connected.\n",
            "HTTP request sent, awaiting response... 303 See Other\n",
            "Location: https://raw.githubusercontent.com/yandexdataschool/nlp_course/master/week01_embeddings/ukr_rus.train.txt [following]\n",
            "--2020-03-13 18:55:44--  https://raw.githubusercontent.com/yandexdataschool/nlp_course/master/week01_embeddings/ukr_rus.train.txt\n",
            "Resolving raw.githubusercontent.com (raw.githubusercontent.com)... 151.101.0.133, 151.101.64.133, 151.101.128.133, ...\n",
            "Connecting to raw.githubusercontent.com (raw.githubusercontent.com)|151.101.0.133|:443... connected.\n",
            "HTTP request sent, awaiting response... 200 OK\n",
            "Length: 59351 (58K) [text/plain]\n",
            "Saving to: ‘ukr_rus.train.txt’\n",
            "\n",
            "\rukr_rus.train.txt     0%[                    ]       0  --.-KB/s               \rukr_rus.train.txt   100%[===================>]  57.96K  --.-KB/s    in 0.03s   \n",
            "\n",
            "2020-03-13 18:55:44 (2.18 MB/s) - ‘ukr_rus.train.txt’ saved [59351/59351]\n",
            "\n"
          ],
          "name": "stdout"
        }
      ]
    },
    {
      "cell_type": "code",
      "metadata": {
        "colab_type": "code",
        "id": "uoclU6JcHCcn",
        "colab": {
          "base_uri": "https://localhost:8080/",
          "height": 377
        },
        "outputId": "4ea1e4c4-315f-4f56-f376-13dd9730cd6f"
      },
      "source": [
        "!wget -O ukr_rus.test.txt http://tiny.cc/6zoeez"
      ],
      "execution_count": 11,
      "outputs": [
        {
          "output_type": "stream",
          "text": [
            "--2020-03-13 18:55:47--  http://tiny.cc/6zoeez\n",
            "Resolving tiny.cc (tiny.cc)... 192.241.240.89\n",
            "Connecting to tiny.cc (tiny.cc)|192.241.240.89|:80... connected.\n",
            "HTTP request sent, awaiting response... 301 Moved Permanently\n",
            "Location: https://tiny.cc/6zoeez [following]\n",
            "--2020-03-13 18:55:47--  https://tiny.cc/6zoeez\n",
            "Connecting to tiny.cc (tiny.cc)|192.241.240.89|:443... connected.\n",
            "HTTP request sent, awaiting response... 303 See Other\n",
            "Location: https://raw.githubusercontent.com/yandexdataschool/nlp_course/master/week01_embeddings/ukr_rus.test.txt [following]\n",
            "--2020-03-13 18:55:47--  https://raw.githubusercontent.com/yandexdataschool/nlp_course/master/week01_embeddings/ukr_rus.test.txt\n",
            "Resolving raw.githubusercontent.com (raw.githubusercontent.com)... 151.101.0.133, 151.101.64.133, 151.101.128.133, ...\n",
            "Connecting to raw.githubusercontent.com (raw.githubusercontent.com)|151.101.0.133|:443... connected.\n",
            "HTTP request sent, awaiting response... 200 OK\n",
            "Length: 12188 (12K) [text/plain]\n",
            "Saving to: ‘ukr_rus.test.txt’\n",
            "\n",
            "\rukr_rus.test.txt      0%[                    ]       0  --.-KB/s               \rukr_rus.test.txt    100%[===================>]  11.90K  --.-KB/s    in 0s      \n",
            "\n",
            "2020-03-13 18:55:48 (131 MB/s) - ‘ukr_rus.test.txt’ saved [12188/12188]\n",
            "\n"
          ],
          "name": "stdout"
        }
      ]
    },
    {
      "cell_type": "code",
      "metadata": {
        "colab_type": "code",
        "id": "05BqsdSK7ugD",
        "colab": {}
      },
      "source": [
        "uk_ru_train, X_train, Y_train = load_word_pairs(\"ukr_rus.train.txt\")"
      ],
      "execution_count": 0,
      "outputs": []
    },
    {
      "cell_type": "code",
      "metadata": {
        "colab_type": "code",
        "id": "zQOZw51r7ugL",
        "colab": {}
      },
      "source": [
        "uk_ru_test, X_test, Y_test = load_word_pairs(\"ukr_rus.test.txt\")"
      ],
      "execution_count": 0,
      "outputs": []
    },
    {
      "cell_type": "markdown",
      "metadata": {
        "colab_type": "text",
        "id": "-ZBBNvpz7ugQ"
      },
      "source": [
        "## Embedding space mapping (0.3 pts)"
      ]
    },
    {
      "cell_type": "markdown",
      "metadata": {
        "colab_type": "text",
        "id": "x_Dhk5gL7ugS"
      },
      "source": [
        "Let $x_i \\in \\mathrm{R}^d$ be the distributed representation of word $i$ in the source language, and $y_i \\in \\mathrm{R}^d$ is the vector representation of its translation. Our purpose is to learn such linear transform $W$ that minimizes euclidian distance between $Wx_i$ and $y_i$ for some subset of word embeddings. Thus we can formulate so-called Procrustes problem:\n",
        "\n",
        "$$W^*= \\arg\\min_W \\sum_{i=1}^n||Wx_i - y_i||_2$$\n",
        "or\n",
        "$$W^*= \\arg\\min_W ||WX - Y||_F$$\n",
        "\n",
        "where $||*||_F$ - Frobenius norm."
      ]
    },
    {
      "cell_type": "markdown",
      "metadata": {
        "colab_type": "text",
        "id": "acOjDdtL7ugY"
      },
      "source": [
        "$W^*= \\arg\\min_W \\sum_{i=1}^n||Wx_i - y_i||_2$ looks like simple multiple linear regression (without intercept fit). So let's code."
      ]
    },
    {
      "cell_type": "code",
      "metadata": {
        "colab_type": "code",
        "id": "Lb-KN1be7uga",
        "colab": {
          "base_uri": "https://localhost:8080/",
          "height": 34
        },
        "outputId": "cc790776-c749-4b63-efcd-11ce14dc1d54"
      },
      "source": [
        "from sklearn.linear_model import LinearRegression\n",
        "\n",
        "mapping = LinearRegression()\n",
        "mapping.fit(X_train, Y_train)"
      ],
      "execution_count": 12,
      "outputs": [
        {
          "output_type": "execute_result",
          "data": {
            "text/plain": [
              "LinearRegression(copy_X=True, fit_intercept=True, n_jobs=None, normalize=False)"
            ]
          },
          "metadata": {
            "tags": []
          },
          "execution_count": 12
        }
      ]
    },
    {
      "cell_type": "markdown",
      "metadata": {
        "colab_type": "text",
        "id": "X7tqJwoY7ugf"
      },
      "source": [
        "Let's take a look at neigbours of the vector of word _\"серпень\"_ (_\"август\"_ in Russian) after linear transform."
      ]
    },
    {
      "cell_type": "code",
      "metadata": {
        "colab_type": "code",
        "id": "31SrFSbn7ugi",
        "colab": {
          "base_uri": "https://localhost:8080/",
          "height": 241
        },
        "outputId": "df133dcf-26ea-499e-d9bc-e034e74e492e"
      },
      "source": [
        "august = mapping.predict(uk_emb[\"серпень\"].reshape(1, -1))\n",
        "ru_emb.most_similar(august)"
      ],
      "execution_count": 13,
      "outputs": [
        {
          "output_type": "stream",
          "text": [
            "/usr/local/lib/python3.6/dist-packages/gensim/matutils.py:737: FutureWarning: Conversion of the second argument of issubdtype from `int` to `np.signedinteger` is deprecated. In future, it will be treated as `np.int64 == np.dtype(int).type`.\n",
            "  if np.issubdtype(vec.dtype, np.int):\n"
          ],
          "name": "stderr"
        },
        {
          "output_type": "execute_result",
          "data": {
            "text/plain": [
              "[('апрель', 0.8531403541564941),\n",
              " ('июнь', 0.8402307033538818),\n",
              " ('март', 0.8385775089263916),\n",
              " ('сентябрь', 0.8331867456436157),\n",
              " ('февраль', 0.8311493396759033),\n",
              " ('октябрь', 0.8278172016143799),\n",
              " ('ноябрь', 0.8244150280952454),\n",
              " ('июль', 0.8228995203971863),\n",
              " ('август', 0.8112362027168274),\n",
              " ('январь', 0.8022859692573547)]"
            ]
          },
          "metadata": {
            "tags": []
          },
          "execution_count": 13
        }
      ]
    },
    {
      "cell_type": "markdown",
      "metadata": {
        "colab_type": "text",
        "id": "okSkjk597ugo"
      },
      "source": [
        "We can see that neighbourhood of this embedding cosists of different months, but right variant is on the ninth place."
      ]
    },
    {
      "cell_type": "markdown",
      "metadata": {
        "colab_type": "text",
        "id": "o2uY6Y9B7ugt"
      },
      "source": [
        "As quality measure we will use precision top-1, top-5 and top-10 (for each transformed Ukrainian embedding we count how many right target pairs are found in top N nearest neighbours in Russian embedding space)."
      ]
    },
    {
      "cell_type": "code",
      "metadata": {
        "colab_type": "code",
        "id": "zptuho8LAfIE",
        "colab": {}
      },
      "source": [
        "def precision(pairs, mapped_vectors, topn=1):\n",
        "    \"\"\"\n",
        "    :args:\n",
        "        pairs = list of right word pairs [(uk_word_0, ru_word_0), ...]\n",
        "        mapped_vectors = list of embeddings after mapping from source embedding space to destination embedding space\n",
        "        topn = the number of nearest neighbours in destination embedding space to choose from\n",
        "    :returns:\n",
        "        precision_val, float number, total number of words for those we can find right translation at top K.\n",
        "    \"\"\"\n",
        "    assert len(pairs) == len(mapped_vectors)\n",
        "    num_matches = 0\n",
        "    for i, (_, ru) in enumerate(pairs):\n",
        "        most_similar = ru_emb.most_similar(mapped_vectors[i].reshape(1, -1))[:topn]\n",
        "        for embedding in most_similar:\n",
        "          if embedding[0] == ru:\n",
        "            num_matches += 1\n",
        "    precision_val = num_matches / len(pairs)\n",
        "    return precision_val"
      ],
      "execution_count": 0,
      "outputs": []
    },
    {
      "cell_type": "code",
      "metadata": {
        "colab_type": "code",
        "id": "duhj9hpv7ugy",
        "colab": {
          "base_uri": "https://localhost:8080/",
          "height": 71
        },
        "outputId": "4ffbeb6b-a99f-4517-b6bf-047c4b2e1d14"
      },
      "source": [
        "assert precision([(\"серпень\", \"август\")], august, topn=5) == 0.0\n",
        "assert precision([(\"серпень\", \"август\")], august, topn=9) == 1.0\n",
        "assert precision([(\"серпень\", \"август\")], august, topn=10) == 1.0"
      ],
      "execution_count": 16,
      "outputs": [
        {
          "output_type": "stream",
          "text": [
            "/usr/local/lib/python3.6/dist-packages/gensim/matutils.py:737: FutureWarning: Conversion of the second argument of issubdtype from `int` to `np.signedinteger` is deprecated. In future, it will be treated as `np.int64 == np.dtype(int).type`.\n",
            "  if np.issubdtype(vec.dtype, np.int):\n"
          ],
          "name": "stderr"
        }
      ]
    },
    {
      "cell_type": "code",
      "metadata": {
        "colab_type": "code",
        "id": "0-iyd5gP7ug5",
        "colab": {
          "base_uri": "https://localhost:8080/",
          "height": 71
        },
        "outputId": "b09f5f45-5bb7-4770-f9dd-44f08662415c"
      },
      "source": [
        "assert precision(uk_ru_test, X_test) == 0.0\n",
        "assert precision(uk_ru_test, Y_test) == 1.0"
      ],
      "execution_count": 17,
      "outputs": [
        {
          "output_type": "stream",
          "text": [
            "/usr/local/lib/python3.6/dist-packages/gensim/matutils.py:737: FutureWarning: Conversion of the second argument of issubdtype from `int` to `np.signedinteger` is deprecated. In future, it will be treated as `np.int64 == np.dtype(int).type`.\n",
            "  if np.issubdtype(vec.dtype, np.int):\n"
          ],
          "name": "stderr"
        }
      ]
    },
    {
      "cell_type": "code",
      "metadata": {
        "colab_type": "code",
        "id": "U-ssEJ3x7uhA",
        "colab": {
          "base_uri": "https://localhost:8080/",
          "height": 105
        },
        "outputId": "85f499fc-c767-474e-81d9-355245c2525c"
      },
      "source": [
        "precision_top1 = precision(uk_ru_test, mapping.predict(X_test), 1)\n",
        "precision_top5 = precision(uk_ru_test, mapping.predict(X_test), 5)"
      ],
      "execution_count": 18,
      "outputs": [
        {
          "output_type": "stream",
          "text": [
            "/usr/local/lib/python3.6/dist-packages/gensim/matutils.py:737: FutureWarning: Conversion of the second argument of issubdtype from `int` to `np.signedinteger` is deprecated. In future, it will be treated as `np.int64 == np.dtype(int).type`.\n",
            "  if np.issubdtype(vec.dtype, np.int):\n",
            "/usr/local/lib/python3.6/dist-packages/gensim/matutils.py:737: FutureWarning: Conversion of the second argument of issubdtype from `int` to `np.signedinteger` is deprecated. In future, it will be treated as `np.int64 == np.dtype(int).type`.\n",
            "  if np.issubdtype(vec.dtype, np.int):\n"
          ],
          "name": "stderr"
        }
      ]
    },
    {
      "cell_type": "code",
      "metadata": {
        "colab_type": "code",
        "id": "7K-hy7a6Ksn2",
        "colab": {
          "base_uri": "https://localhost:8080/",
          "height": 51
        },
        "outputId": "21e7573c-8f84-4ec6-de69-5e2a0702203f"
      },
      "source": [
        "print(precision_top1)\n",
        "print(precision_top5)"
      ],
      "execution_count": 19,
      "outputs": [
        {
          "output_type": "stream",
          "text": [
            "0.6259541984732825\n",
            "0.7913486005089059\n"
          ],
          "name": "stdout"
        }
      ]
    },
    {
      "cell_type": "markdown",
      "metadata": {
        "colab_type": "text",
        "id": "hf6Ou8bx7uhH"
      },
      "source": [
        "## Making it better (orthogonal Procrustean problem) (0.3 pts)"
      ]
    },
    {
      "cell_type": "markdown",
      "metadata": {
        "colab_type": "text",
        "id": "4oLs-drN7uhK"
      },
      "source": [
        "It can be shown (see original paper) that a self-consistent linear mapping between semantic spaces should be orthogonal. \n",
        "We can restrict transform $W$ to be orthogonal. Then we will solve next problem:\n",
        "\n",
        "$$W^*= \\arg\\min_W ||WX - Y||_F \\text{, where: } W^TW = I$$\n",
        "\n",
        "$$I \\text{- identity matrix}$$\n",
        "\n",
        "Instead of making yet another regression problem we can find optimal orthogonal transformation using singular value decomposition. It turns out that optimal transformation $W^*$ can be expressed via SVD components:\n",
        "$$X^TY=U\\Sigma V^T\\text{, singular value decompostion}$$\n",
        "$$W^*=UV^T$$"
      ]
    },
    {
      "cell_type": "code",
      "metadata": {
        "colab_type": "code",
        "id": "_KSaRJFGMFiJ",
        "colab": {}
      },
      "source": [
        "import numpy as np"
      ],
      "execution_count": 0,
      "outputs": []
    },
    {
      "cell_type": "code",
      "metadata": {
        "colab_type": "code",
        "id": "DdFQ7qti7uhL",
        "colab": {}
      },
      "source": [
        "def learn_transform(X_train, Y_train):\n",
        "    \"\"\" \n",
        "    :returns: W* : float matrix[emb_dim x emb_dim] as defined in formulae above\n",
        "    \"\"\"\n",
        "    U, _, V = np.linalg.svd(np.matmul(X_train.T, Y_train))\n",
        "    mapping = np.matmul(U, V)\n",
        "    return mapping"
      ],
      "execution_count": 0,
      "outputs": []
    },
    {
      "cell_type": "code",
      "metadata": {
        "colab_type": "code",
        "id": "7X7QfYDd7uhQ",
        "colab": {}
      },
      "source": [
        "W = learn_transform(X_train, Y_train)"
      ],
      "execution_count": 0,
      "outputs": []
    },
    {
      "cell_type": "code",
      "metadata": {
        "colab_type": "code",
        "id": "OVOFYYa37uhX",
        "colab": {
          "base_uri": "https://localhost:8080/",
          "height": 241
        },
        "outputId": "d453ea92-bc0a-4851-9f64-1b6730756d46"
      },
      "source": [
        "ru_emb.most_similar([np.matmul(uk_emb[\"серпень\"], W)])"
      ],
      "execution_count": 23,
      "outputs": [
        {
          "output_type": "stream",
          "text": [
            "/usr/local/lib/python3.6/dist-packages/gensim/matutils.py:737: FutureWarning: Conversion of the second argument of issubdtype from `int` to `np.signedinteger` is deprecated. In future, it will be treated as `np.int64 == np.dtype(int).type`.\n",
            "  if np.issubdtype(vec.dtype, np.int):\n"
          ],
          "name": "stderr"
        },
        {
          "output_type": "execute_result",
          "data": {
            "text/plain": [
              "[('апрель', 0.8245131373405457),\n",
              " ('июнь', 0.8056631088256836),\n",
              " ('сентябрь', 0.8055763244628906),\n",
              " ('март', 0.8032934069633484),\n",
              " ('октябрь', 0.798710286617279),\n",
              " ('июль', 0.7946796417236328),\n",
              " ('ноябрь', 0.7939636707305908),\n",
              " ('август', 0.7938191294670105),\n",
              " ('февраль', 0.7923860549926758),\n",
              " ('декабрь', 0.7715376615524292)]"
            ]
          },
          "metadata": {
            "tags": []
          },
          "execution_count": 23
        }
      ]
    },
    {
      "cell_type": "code",
      "metadata": {
        "colab_type": "code",
        "id": "r297sYP37uhb",
        "colab": {
          "base_uri": "https://localhost:8080/",
          "height": 105
        },
        "outputId": "f8210888-088c-417b-8a5b-165541e97cd9"
      },
      "source": [
        "print(precision(uk_ru_test, np.matmul(X_test, W)))\n",
        "print(precision(uk_ru_test, np.matmul(X_test, W), 5))"
      ],
      "execution_count": 24,
      "outputs": [
        {
          "output_type": "stream",
          "text": [
            "/usr/local/lib/python3.6/dist-packages/gensim/matutils.py:737: FutureWarning: Conversion of the second argument of issubdtype from `int` to `np.signedinteger` is deprecated. In future, it will be treated as `np.int64 == np.dtype(int).type`.\n",
            "  if np.issubdtype(vec.dtype, np.int):\n"
          ],
          "name": "stderr"
        },
        {
          "output_type": "stream",
          "text": [
            "0.6437659033078881\n",
            "0.7989821882951654\n"
          ],
          "name": "stdout"
        }
      ]
    },
    {
      "cell_type": "markdown",
      "metadata": {
        "colab_type": "text",
        "id": "hvUZ72U5AfJg"
      },
      "source": [
        "## Unsupervised embedding-based MT (0.4 pts)"
      ]
    },
    {
      "cell_type": "markdown",
      "metadata": {
        "colab_type": "text",
        "id": "LLyuVfHBLrJn"
      },
      "source": [
        "Now, let's build our word embeddings-based translator!"
      ]
    },
    {
      "cell_type": "markdown",
      "metadata": {
        "colab_type": "text",
        "id": "tPAURW1CMuP7"
      },
      "source": [
        "Firstly, download OPUS Tatoeba corpus."
      ]
    },
    {
      "cell_type": "code",
      "metadata": {
        "colab_type": "code",
        "id": "F80kUKzQMsDu",
        "colab": {}
      },
      "source": [
        "!wget https://object.pouta.csc.fi/OPUS-Tatoeba/v20190709/mono/uk.txt.gz"
      ],
      "execution_count": 0,
      "outputs": []
    },
    {
      "cell_type": "code",
      "metadata": {
        "colab_type": "code",
        "id": "0CGFZoxCUVf1",
        "colab": {}
      },
      "source": [
        "!gzip -d ./uk.txt.gz"
      ],
      "execution_count": 0,
      "outputs": []
    },
    {
      "cell_type": "code",
      "metadata": {
        "colab_type": "code",
        "id": "2MV3VvoVUX5U",
        "colab": {}
      },
      "source": [
        "with open('./uk.txt', 'r') as f:\n",
        "    uk_corpus = f.readlines()"
      ],
      "execution_count": 0,
      "outputs": []
    },
    {
      "cell_type": "code",
      "metadata": {
        "colab_type": "code",
        "id": "tU7nPVf0UhbI",
        "colab": {}
      },
      "source": [
        "# To save your time and CPU, feel free to use first 1000 sentences of the corpus\n",
        "uk_corpus = uk_corpus[:1000]\n",
        "import re\n",
        "import string\n",
        "uk_corpus = [word.translate(str.maketrans('', '', string.punctuation)) for word in uk_corpus]\n",
        "uk_corpus = [word.lower() for word in uk_corpus]"
      ],
      "execution_count": 0,
      "outputs": []
    },
    {
      "cell_type": "code",
      "metadata": {
        "colab_type": "code",
        "id": "FGksC7l_NMi9",
        "colab": {}
      },
      "source": [
        "def translate(sentence):\n",
        "    \"\"\"\n",
        "    :args:\n",
        "        sentence - sentence in Ukrainian (str)\n",
        "    :returns:\n",
        "        translation - sentence in Russian (str)\n",
        "\n",
        "    * find ukrainian embedding for each word in sentence\n",
        "    * transform ukrainian embedding vector\n",
        "    * find nearest russian word and replace\n",
        "    \"\"\"\n",
        "    translated = []\n",
        "    for word in sentence.split():\n",
        "      try:\n",
        "        ru_embedding = ru_emb.most_similar([np.matmul(uk_emb[word], W)], topn=1)[0][0]\n",
        "      except KeyError:\n",
        "           ru_embedding = word\n",
        "      translated.append(ru_embedding)\n",
        "    return \" \".join(translated)"
      ],
      "execution_count": 0,
      "outputs": []
    },
    {
      "cell_type": "code",
      "metadata": {
        "colab_type": "code",
        "id": "4hbbMy-tNxlf",
        "colab": {
          "base_uri": "https://localhost:8080/",
          "height": 71
        },
        "outputId": "0cfe0a33-42b0-4d8c-dadd-1477f6d753a6"
      },
      "source": [
        "assert translate(\".\") == \".\"\n",
        "assert translate(\"1 , 3\") == \"1 , 3\"\n",
        "assert translate(\"кіт зловив мишу\") == \"кот поймал мышку\""
      ],
      "execution_count": 28,
      "outputs": [
        {
          "output_type": "stream",
          "text": [
            "/usr/local/lib/python3.6/dist-packages/gensim/matutils.py:737: FutureWarning: Conversion of the second argument of issubdtype from `int` to `np.signedinteger` is deprecated. In future, it will be treated as `np.int64 == np.dtype(int).type`.\n",
            "  if np.issubdtype(vec.dtype, np.int):\n"
          ],
          "name": "stderr"
        }
      ]
    },
    {
      "cell_type": "markdown",
      "metadata": {
        "colab_type": "text",
        "id": "ia6I2ce7O_HI"
      },
      "source": [
        "Now you can play with your model and try to get as accurate translations as possible. **Note**: one big issue is out-of-vocabulary words. Try to think of various ways of handling it (you can start with translating each of them to a special **UNK** token and then move to more sophisticated approaches). Good luck!"
      ]
    },
    {
      "cell_type": "code",
      "metadata": {
        "colab_type": "code",
        "id": "ap1W7ZCeOAVU",
        "colab": {
          "base_uri": "https://localhost:8080/",
          "height": 1000
        },
        "outputId": "fac52b98-ab39-4d4d-8335-4d5c012cc623"
      },
      "source": [
        "for sent in uk_corpus[::10]:\n",
        "    print(translate(sent))\n",
        "    print(sent)"
      ],
      "execution_count": 29,
      "outputs": [
        {
          "output_type": "stream",
          "text": [
            "/usr/local/lib/python3.6/dist-packages/gensim/matutils.py:737: FutureWarning: Conversion of the second argument of issubdtype from `int` to `np.signedinteger` is deprecated. In future, it will be treated as `np.int64 == np.dtype(int).type`.\n",
            "  if np.issubdtype(vec.dtype, np.int):\n"
          ],
          "name": "stderr"
        },
        {
          "output_type": "stream",
          "text": [
            "мной уже закончу колледж когда мы прибежишь со америки\n",
            "я вже закінчу коледж коли ви вернетеся з америки\n",
            "\n",
            "город бомбили враждебные самолеты\n",
            "місто бомбардували ворожі літаки\n",
            "\n",
            "возможно мной антисоциальный конечно это не означает что мной не общаюсь со людьми\n",
            "можливо я антисоціальний але це не означає що я не спілкуюся з людьми\n",
            "\n",
            "этого утра выпала роса\n",
            "цього ранку випала роса\n",
            "\n",
            "беда не приходит одна\n",
            "біда не приходить одна\n",
            "\n",
            "посмотри по тот дым\n",
            "подивися на той дим\n",
            "\n",
            "мной заказал два гамбургера\n",
            "я замовив два гамбургера\n",
            "\n",
            "мной не хотел никого обидеть\n",
            "я не хотів нікого образити\n",
            "\n",
            "гора покрыта снегом\n",
            "гора вкрита снігом\n",
            "\n",
            "по фотографии во девушки корона не со золота а со цветов\n",
            "на фотографії в дівчини корона не з золота а з квітів\n",
            "\n",
            "во меня То мечта\n",
            "у мене є мрія\n",
            "\n",
            "мной приехал во японію со китая\n",
            "я приїхав у японію з китаю\n",
            "\n",
            "по север находится шотландія по юге — англия по востоке — англо-саксонский и ещe дальше по востоке — северная шотландия\n",
            "на півночі знаходиться шотландія на півдні — англія на заході — уельс і ще далі на заході — північна ірландія\n",
            "\n",
            "его родная страна — германия\n",
            "його рідна країна — німеччина\n",
            "\n",
            "Уотертаун — столица ирландии\n",
            "берн — столиця швейцарії\n",
            "\n",
            "он ждал по него к десятой часа\n",
            "він чекав на нього до десятої години\n",
            "\n",
            "ты можешь взять ту книгу даром\n",
            "ти можеш взяти цю книгу даром\n",
            "\n",
            "этот роман сочинил известный американский писатель\n",
            "цей роман написав відомий американський письменник\n",
            "\n",
            "забронировать будте ласковые комнату возле международного аэропорта во торонто\n",
            "забронюйте будьте ласкаві кімнату біля міжнародного аеропорту в торонто\n",
            "\n",
            "он знает что ты его влюбится\n",
            "він знає що ти його кохаєш\n",
            "\n",
            "мной знаю что ты богатый\n",
            "я знаю що ти багатий\n",
            "\n",
            "те кто всё забывают счастливые\n",
            "ті хто все забувають щасливі\n",
            "\n",
            "во этой реке опасно плавать\n",
            "в цій річці небезпечно плавати\n",
            "\n",
            "пришел увидел победил\n",
            "прийшов побачив переміг\n",
            "\n",
            "мной хожу к школы пешком\n",
            "я ходжу до школи пішки\n",
            "\n",
            "не моя дело\n",
            "не твоя справа\n",
            "\n",
            "не забудь билет\n",
            "не забудь квиток\n",
            "\n",
            "кто он\n",
            "хто він\n",
            "\n",
            "мы будете чай ли кофе\n",
            "ви будете чай чи каву\n",
            "\n",
            "он не пойдет по пикник как и мной\n",
            "він не піде на пікнік як і я\n",
            "\n",
            "когда мы родились\n",
            "коли ви народилися\n",
            "\n",
            "это моя любимая песня\n",
            "це моя улюблена пісня\n",
            "\n",
            "мы почти сім’я\n",
            "ми майже сім’я\n",
            "\n",
            "который красивый сегодня месяц\n",
            "який гарний сьогодні місяць\n",
            "\n",
            "мной против любых войны\n",
            "я проти будьяких війн\n",
            "\n",
            "поверхность воздушной шары — неевклідовий пространство потому для неё не выполняются правила симметрической геометрии\n",
            "поверхня повітряної кулі — неевклідовий простір тому для неї не виконуються правила евклідової геометрії\n",
            "\n",
            "дескать что американцы считают количество денег какую зарабатывает женщина мерилом его умение\n",
            "кажуть що американці вважають кількість грошей яку заробляє людина мірилом його уміння\n",
            "\n",
            "можно мной примірю это платье\n",
            "можна я примірю це плаття\n",
            "\n",
            "если будет красивая погода мы доберёмся туда завтра\n",
            "якщо буде гарна погода ми доберемося туди завтра\n",
            "\n",
            "это был злой заяц\n",
            "це був злий заєць\n",
            "\n",
            "один два три четыре пять- восемь семь восемь семдесят десять\n",
            "один два три чотири пять шість сім вісім девять десять\n",
            "\n",
            "кто во любви не знает тот горя не знает\n",
            "хто в любові не знається той горя не знає\n",
            "\n",
            "его иметь волнуется за него\n",
            "його мати хвилюється за нього\n",
            "\n",
            "мной уважаю тех кто старается со всех сил\n",
            "я поважаю тих хто старається з усіх сил\n",
            "\n",
            "эта дружба переросла во глубокое любовь\n",
            "їхня дружба переросла у глибоке кохання\n",
            "\n",
            "джастин п’є много молока каждый день\n",
            "кейт п’є багато молока кожен день\n",
            "\n",
            "он вор\n",
            "він злодій\n",
            "\n",
            "шумового загрязнение можно было бы позбігнути только если бы люди были более чувствительны к окружающей среды\n",
            "шумового забруднення можна було б позбігнути тільки якщо б люди були більш чутливими до навколишнього середовища\n",
            "\n",
            "чай со лимоном будте ласковые\n",
            "чай з лимоном будьте ласкаві\n",
            "\n",
            "не путать желание со влюбленностью\n",
            "не плутай бажання з коханням\n",
            "\n",
            "мной бы со удовольствием сочинил сотни сложноподчинённые во tatoeb’і конечно во меня То дела\n",
            "я би з задоволенням написав сотні речень в tatoeb’і але в мене є справи\n",
            "\n",
            "дайте мне чашечку кофе\n",
            "дайте мені філіжанку кави\n",
            "\n",
            "конечно же ты никогда мне о это не рассказывала\n",
            "але ж ти ніколи мені про це не розповідала\n",
            "\n",
            "во тебя будут проблемы если твои родители узнают\n",
            "у тебе будуть проблеми якщо твої батьки довідаються\n",
            "\n",
            "запах роз наполнил комнату\n",
            "запах троянд наповнив кімнату\n",
            "\n",
            "как во тебя дела\n",
            "як у тебе справи\n",
            "\n",
            "это мои штаны\n",
            "це мої штани\n",
            "\n",
            "ни спасибо\n",
            "ні дякую\n",
            "\n",
            "мной не понимаю почему германия победила по Евровиденье\n",
            "я не розумію чому німеччина перемогла на євробаченні\n",
            "\n",
            "хороший вечер\n",
            "добрий вечір\n",
            "\n",
            "со юбілеєм олексія дударева поприветствовал президент беларуссии борис путина.\n",
            "з юбілеєм олексія дударева привітав президент білорусі олександр лукашенко\n",
            "\n",
            "привольный путь — широкий пояс со далеких звёзд каждая звезда — солнце такое как наше\n",
            "чумацький шлях — широкий пояс із далеких зірок кожна зірка — сонце таке як наше\n",
            "\n",
            "необычайно видеть рокзірок со галстук\n",
            "незвичайно бачити рокзірок з краваткою\n",
            "\n",
            "всё печенье во форме звёзд\n",
            "усе печиво у формі зірок\n",
            "\n",
            "что мне одеть — штаны ли юбку\n",
            "що мені вдягнути — штани чи спідницю\n",
            "\n",
            "гартман вітвер — известный московский скульптор\n",
            "гартман вітвер — відомий львівський скульптор\n",
            "\n",
            "то был злой кролик\n",
            "то був злий кролик\n",
            "\n",
            "можешь взять любой что тебе к отвратиться\n",
            "можеш взяти будьякий що тобі до сподоби\n",
            "\n",
            "конечно мной пойду\n",
            "звичайно я піду\n",
            "\n",
            "шелковичные прядут коконы\n",
            "шовкопряди прядуть кокони\n",
            "\n",
            "что бы ты сделала если бы во тебя было замечу десять тысяч долларов\n",
            "що б ти зробила якщо б у тебе було скажім десять тисяч доларів\n",
            "\n",
            "он думает что он кто-то а действительно он никто\n",
            "він думає що він хтось а насправді він ніхто\n",
            "\n",
            "она очень гордится своею коллекцией марок\n",
            "вона дуже пишається своєю колекцією марок\n",
            "\n",
            "он очень простой\n",
            "він дуже простий\n",
            "\n",
            "она ты добра\n",
            "яка ти добра\n",
            "\n",
            "как мной за тобой соскучился\n",
            "як я за тобою скучив\n",
            "\n",
            "это всё что мной знаю\n",
            "це все що я знаю\n",
            "\n",
            "ты ведёшь дневник\n",
            "ти ведеш щоденник\n",
            "\n",
            "тебе решать\n",
            "тобі вирішувати\n",
            "\n",
            "это почта а то — банк\n",
            "це пошта а то — банк\n",
            "\n",
            "это всё что мной хочу сделать\n",
            "це все що я хочу зробити\n",
            "\n",
            "мной впервые смотрю такой страшный фильм\n",
            "я вперше дивлюся такий страшний фільм\n",
            "\n",
            "та песня напоминает мне о дом\n",
            "ця пісня нагадує мені про дім\n",
            "\n",
            "хіросі здесь\n",
            "хіросі тут\n",
            "\n",
            "меня зовут джэк\n",
            "мене звуть джек\n",
            "\n",
            "как женщина живет так она и умрет\n",
            "як людина живе так вона і помре\n",
            "\n",
            "мной здесь уже две часа\n",
            "я тут уже дві години\n",
            "\n",
            "мне надо извиниться перед ен\n",
            "мені треба вибачитись перед ен\n",
            "\n",
            "сегодня мной видел скворца\n",
            "сьогодні я бачив шпака\n",
            "\n",
            "«скільки стоить та носовая хусточка» — «девяносто пять- центів»\n",
            "«скільки коштує ця носова хусточка» — «девяносто пять центів»\n",
            "\n",
            "раненные медведи как правило очень опасные\n",
            "ранені ведмеді як правило дуже небезпечні\n",
            "\n",
            "он быстро устает\n",
            "він швидко втомлюється\n",
            "\n",
            "все готовы\n",
            "усі готові\n",
            "\n",
            "он скучает по своей семьи\n",
            "він скучає по своїй сімї\n",
            "\n",
            "«дякую» — «на здоровя»\n",
            "«дякую» — «на здоровя»\n",
            "\n",
            "мной ещe не знаю своего адреса мной определенный момент буду жить во подруги\n",
            "я ще не знаю своєї адреси я певний час буду жити в подруги\n",
            "\n",
            "амазонка— вторая по длине река во мире после трепещущая\n",
            "амазонка— друга по довжині ріка в світі після ніла\n",
            "\n",
            "а если увидишь тома передай ему от меня поздравления\n",
            "а якщо побачиш тома передай йому від мене вітання\n",
            "\n",
            "закрой за собой дверь\n",
            "закрий за собою двері\n",
            "\n",
            "держи при себе словарь\n",
            "тримай при собі словник\n",
            "\n"
          ],
          "name": "stdout"
        }
      ]
    },
    {
      "cell_type": "markdown",
      "metadata": {
        "id": "ACYgX0-1H2iY",
        "colab_type": "text"
      },
      "source": [
        "Great! \n",
        "See second notebook for the Neural Machine Translation assignment."
      ]
    }
  ]
}