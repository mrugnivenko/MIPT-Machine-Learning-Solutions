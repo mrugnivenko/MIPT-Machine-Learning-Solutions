{
  "nbformat": 4,
  "nbformat_minor": 0,
  "metadata": {
    "anaconda-cloud": {},
    "colab": {
      "name": "homework-3.ipynb",
      "provenance": [],
      "collapsed_sections": [],
      "toc_visible": true,
      "machine_shape": "hm"
    },
    "kernelspec": {
      "display_name": "Py3 research env",
      "language": "python",
      "name": "py3_research"
    },
    "language_info": {
      "codemirror_mode": {
        "name": "ipython",
        "version": 3
      },
      "file_extension": ".py",
      "mimetype": "text/x-python",
      "name": "python",
      "nbconvert_exporter": "python",
      "pygments_lexer": "ipython3",
      "version": "3.6.7"
    },
    "accelerator": "GPU"
  },
  "cells": [
    {
      "cell_type": "markdown",
      "metadata": {
        "colab_type": "text",
        "id": "eulvfJWl7ueY"
      },
      "source": [
        "# Lab 1"
      ]
    },
    {
      "cell_type": "markdown",
      "metadata": {
        "id": "kiJv6FdeFqw5",
        "colab_type": "text"
      },
      "source": [
        "## Part 2: Neural Machine Translation in the wild\n",
        "In the second part of the homework you are supposed to get the best translation you can for the EN-RU translation task.\n",
        "\n",
        "Basic approach using RNNs as encoder and decoder is implemented for you. \n",
        "\n",
        "Your ultimate task is to use the techniques we've covered, e.g.\n",
        "* [Byte Pair Encoding](https://github.com/rsennrich/subword-nmt)\n",
        "\n",
        "* CNN encoder (with or without positional encoding)\n",
        "\n",
        "* attention/self-attention mechanism\n",
        "\n",
        "* pretraining the language model\n",
        "\n",
        "* or just fine-tunning BERT)\n",
        "\n",
        "to improve the translation quality. \n",
        "\n",
        "__Please use at least three different approaches/models and compare them (translation quality/complexity/training and evaluation time).__\n",
        "Write down some summary on your experiments and illustrate it with convergence plots/metrics and your thoughts. Just like you would approach a real problem."
      ]
    },
    {
      "cell_type": "code",
      "metadata": {
        "id": "2-ew6eS0Fqw6",
        "colab_type": "code",
        "outputId": "f3b8d0e4-f605-4ebc-aa3b-407fdc092f97",
        "colab": {
          "base_uri": "https://localhost:8080/",
          "height": 479
        }
      },
      "source": [
        "! pip  install subword-nmt\n",
        "! pip install nltk\n",
        "! pip install torchtext\n",
        "! wget https://raw.githubusercontent.com/ml-mipt/ml-mipt/advanced/homeworks/Lab1_NLP/data.txt\n",
        "\n",
        "# Thanks to YSDA NLP course team for the data\n",
        "# (who thanks tilda and deephack teams for the data in their turn)"
      ],
      "execution_count": 1,
      "outputs": [
        {
          "output_type": "stream",
          "text": [
            "Collecting subword-nmt\n",
            "  Downloading https://files.pythonhosted.org/packages/74/60/6600a7bc09e7ab38bc53a48a20d8cae49b837f93f5842a41fe513a694912/subword_nmt-0.3.7-py2.py3-none-any.whl\n",
            "Installing collected packages: subword-nmt\n",
            "Successfully installed subword-nmt-0.3.7\n",
            "Requirement already satisfied: nltk in /usr/local/lib/python3.6/dist-packages (3.2.5)\n",
            "Requirement already satisfied: six in /usr/local/lib/python3.6/dist-packages (from nltk) (1.12.0)\n",
            "Requirement already satisfied: torchtext in /usr/local/lib/python3.6/dist-packages (0.3.1)\n",
            "Requirement already satisfied: numpy in /usr/local/lib/python3.6/dist-packages (from torchtext) (1.18.2)\n",
            "Requirement already satisfied: requests in /usr/local/lib/python3.6/dist-packages (from torchtext) (2.21.0)\n",
            "Requirement already satisfied: tqdm in /usr/local/lib/python3.6/dist-packages (from torchtext) (4.38.0)\n",
            "Requirement already satisfied: torch in /usr/local/lib/python3.6/dist-packages (from torchtext) (1.4.0)\n",
            "Requirement already satisfied: urllib3<1.25,>=1.21.1 in /usr/local/lib/python3.6/dist-packages (from requests->torchtext) (1.24.3)\n",
            "Requirement already satisfied: certifi>=2017.4.17 in /usr/local/lib/python3.6/dist-packages (from requests->torchtext) (2019.11.28)\n",
            "Requirement already satisfied: idna<2.9,>=2.5 in /usr/local/lib/python3.6/dist-packages (from requests->torchtext) (2.8)\n",
            "Requirement already satisfied: chardet<3.1.0,>=3.0.2 in /usr/local/lib/python3.6/dist-packages (from requests->torchtext) (3.0.4)\n",
            "--2020-04-03 08:05:05--  https://raw.githubusercontent.com/ml-mipt/ml-mipt/advanced/homeworks/Lab1_NLP/data.txt\n",
            "Resolving raw.githubusercontent.com (raw.githubusercontent.com)... 151.101.0.133, 151.101.64.133, 151.101.128.133, ...\n",
            "Connecting to raw.githubusercontent.com (raw.githubusercontent.com)|151.101.0.133|:443... connected.\n",
            "HTTP request sent, awaiting response... 200 OK\n",
            "Length: 12905334 (12M) [text/plain]\n",
            "Saving to: ‘data.txt.1’\n",
            "\n",
            "data.txt.1          100%[===================>]  12.31M  30.3MB/s    in 0.4s    \n",
            "\n",
            "2020-04-03 08:05:06 (30.3 MB/s) - ‘data.txt.1’ saved [12905334/12905334]\n",
            "\n"
          ],
          "name": "stdout"
        }
      ]
    },
    {
      "cell_type": "code",
      "metadata": {
        "id": "sjhzD46JFqxG",
        "colab_type": "code",
        "colab": {}
      },
      "source": [
        "import torch\n",
        "import torch.nn as nn\n",
        "import torch.optim as optim\n",
        "\n",
        "import torchtext\n",
        "from torchtext.datasets import TranslationDataset, Multi30k\n",
        "from torchtext.data import Field, BucketIterator\n",
        "\n",
        "import spacy\n",
        "\n",
        "import random\n",
        "import math\n",
        "import time\n",
        "\n",
        "import matplotlib\n",
        "matplotlib.rcParams.update({'figure.figsize': (16, 12), 'font.size': 14})\n",
        "import matplotlib.pyplot as plt\n",
        "%matplotlib inline\n",
        "from IPython.display import clear_output\n",
        "\n",
        "from nltk.tokenize import WordPunctTokenizer\n",
        "from subword_nmt.learn_bpe import learn_bpe\n",
        "from subword_nmt.apply_bpe import BPE\n"
      ],
      "execution_count": 0,
      "outputs": []
    },
    {
      "cell_type": "markdown",
      "metadata": {
        "id": "tjV2so5SFqxK",
        "colab_type": "text"
      },
      "source": [
        "### Main part\n",
        "__Here comes the preprocessing. Do not hesitate to use BPE or more complex preprocessing ;)__"
      ]
    },
    {
      "cell_type": "code",
      "metadata": {
        "id": "1du4jiNTFqxL",
        "colab_type": "code",
        "colab": {}
      },
      "source": [
        "tokenizer_W = WordPunctTokenizer()\n",
        "def tokenize(x, tokenizer=tokenizer_W):\n",
        "    return tokenizer.tokenize(x.lower())"
      ],
      "execution_count": 0,
      "outputs": []
    },
    {
      "cell_type": "code",
      "metadata": {
        "id": "-sCVmaH1FqxO",
        "colab_type": "code",
        "colab": {}
      },
      "source": [
        "SRC = Field(tokenize=tokenize,\n",
        "            init_token = '<sos>', \n",
        "            eos_token = '<eos>', \n",
        "            lower = True)\n",
        "\n",
        "TRG = Field(tokenize=tokenize,\n",
        "            init_token = '<sos>', \n",
        "            eos_token = '<eos>', \n",
        "            lower = True)\n",
        "\n",
        "dataset = torchtext.data.TabularDataset(\n",
        "    path='data.txt',\n",
        "    format='tsv',\n",
        "    fields=[('trg', TRG), ('src', SRC)]\n",
        ")"
      ],
      "execution_count": 0,
      "outputs": []
    },
    {
      "cell_type": "code",
      "metadata": {
        "id": "0PVXmGz-FqxQ",
        "colab_type": "code",
        "colab": {}
      },
      "source": [
        "train_data, valid_data, test_data = dataset.split(split_ratio=[0.8, 0.15, 0.05])"
      ],
      "execution_count": 0,
      "outputs": []
    },
    {
      "cell_type": "code",
      "metadata": {
        "id": "WaDcgXhkFqxS",
        "colab_type": "code",
        "outputId": "bb80b327-5f24-4992-ada2-c51e11918f16",
        "colab": {
          "base_uri": "https://localhost:8080/",
          "height": 68
        }
      },
      "source": [
        "print(f\"Number of training examples: {len(train_data.examples)}\")\n",
        "print(f\"Number of validation examples: {len(valid_data.examples)}\")\n",
        "print(f\"Number of testing examples: {len(test_data.examples)}\")"
      ],
      "execution_count": 0,
      "outputs": [
        {
          "output_type": "stream",
          "text": [
            "Number of training examples: 40000\n",
            "Number of validation examples: 2500\n",
            "Number of testing examples: 7500\n"
          ],
          "name": "stdout"
        }
      ]
    },
    {
      "cell_type": "code",
      "metadata": {
        "id": "1rEa2Mm7FqxW",
        "colab_type": "code",
        "colab": {}
      },
      "source": [
        "SRC.build_vocab(train_data, min_freq = 3)\n",
        "TRG.build_vocab(train_data, min_freq = 3)"
      ],
      "execution_count": 0,
      "outputs": []
    },
    {
      "cell_type": "code",
      "metadata": {
        "id": "EXK3uEkZFqxY",
        "colab_type": "code",
        "outputId": "295c19c7-3ddb-46c0-85d6-c1d7b3922244",
        "colab": {
          "base_uri": "https://localhost:8080/",
          "height": 51
        }
      },
      "source": [
        "print(f\"Unique tokens in source (ru) vocabulary: {len(SRC.vocab)}\")\n",
        "print(f\"Unique tokens in target (en) vocabulary: {len(TRG.vocab)}\")"
      ],
      "execution_count": 0,
      "outputs": [
        {
          "output_type": "stream",
          "text": [
            "Unique tokens in source (ru) vocabulary: 9255\n",
            "Unique tokens in target (en) vocabulary: 6694\n"
          ],
          "name": "stdout"
        }
      ]
    },
    {
      "cell_type": "markdown",
      "metadata": {
        "id": "ilvfyirdFqxa",
        "colab_type": "text"
      },
      "source": [
        "Here are tokens from original (RU) corpus:"
      ]
    },
    {
      "cell_type": "code",
      "metadata": {
        "id": "n4NeHj-nFqxb",
        "colab_type": "code",
        "outputId": "8b849e89-a5ca-40e3-d224-05cbb7c3ccfc",
        "colab": {
          "base_uri": "https://localhost:8080/",
          "height": 187
        }
      },
      "source": [
        "SRC.vocab.itos[::1000]"
      ],
      "execution_count": 0,
      "outputs": [
        {
          "output_type": "execute_result",
          "data": {
            "text/plain": [
              "['<unk>',\n",
              " 'берег',\n",
              " '650',\n",
              " 'отделяет',\n",
              " 'day',\n",
              " 'хакуба',\n",
              " 'noclegi',\n",
              " 'университетского',\n",
              " 'доха',\n",
              " 'театры']"
            ]
          },
          "metadata": {
            "tags": []
          },
          "execution_count": 10
        }
      ]
    },
    {
      "cell_type": "markdown",
      "metadata": {
        "id": "fnEOokJHFqxc",
        "colab_type": "text"
      },
      "source": [
        "And from target (EN) corpus:"
      ]
    },
    {
      "cell_type": "code",
      "metadata": {
        "id": "JJ29i3v1Fqxd",
        "colab_type": "code",
        "outputId": "e7848b31-d04e-4324-ebe8-1fc5bcd2dc86",
        "colab": {
          "base_uri": "https://localhost:8080/",
          "height": 34
        }
      },
      "source": [
        "TRG.vocab.itos[::1000]"
      ],
      "execution_count": 0,
      "outputs": [
        {
          "output_type": "execute_result",
          "data": {
            "text/plain": [
              "['<unk>', '́', 'exotic', 'capri', 'mamaia', 'silk', 'marcos']"
            ]
          },
          "metadata": {
            "tags": []
          },
          "execution_count": 11
        }
      ]
    },
    {
      "cell_type": "markdown",
      "metadata": {
        "id": "Z0268lPqFqxf",
        "colab_type": "text"
      },
      "source": [
        "And here is example from train dataset:"
      ]
    },
    {
      "cell_type": "code",
      "metadata": {
        "id": "FxxPXoZYFqxg",
        "colab_type": "code",
        "outputId": "22043b9f-2ed2-4dce-c65e-42a1fab2ce80",
        "colab": {
          "base_uri": "https://localhost:8080/",
          "height": 54
        }
      },
      "source": [
        "print(vars(train_data.examples[9]))"
      ],
      "execution_count": 0,
      "outputs": [
        {
          "output_type": "stream",
          "text": [
            "{'trg': ['free', 'wifi', 'is', 'available', 'throughout', 'the', 'property', 'and', 'free', 'private', 'parking', 'is', 'available', 'on', 'site', '.'], 'src': ['к', 'услугам', 'гостей', 'терраса', ',', 'бесплатный', 'wi', '-', 'fi', 'на', 'всей', 'территории', 'и', 'бесплатная', 'частная', 'парковка', '.']}\n"
          ],
          "name": "stdout"
        }
      ]
    },
    {
      "cell_type": "markdown",
      "metadata": {
        "id": "uWO7fSBJFqxh",
        "colab_type": "text"
      },
      "source": [
        "Let's check the length distributions:"
      ]
    },
    {
      "cell_type": "code",
      "metadata": {
        "id": "JReLUyMwFqxi",
        "colab_type": "code",
        "outputId": "3cc8ede2-4587-4db9-e48c-7cb7c27fc932",
        "colab": {
          "base_uri": "https://localhost:8080/",
          "height": 298
        }
      },
      "source": [
        "src_length = map(len, [vars(x)['src'] for x in train_data.examples])\n",
        "trg_length = map(len, [vars(x)['trg'] for x in train_data.examples])\n",
        "\n",
        "print('Length distribution in Train data')\n",
        "plt.figure(figsize=[8, 4])\n",
        "plt.subplot(1, 2, 1)\n",
        "plt.title(\"source length\")\n",
        "plt.hist(list(src_length), bins=20);\n",
        "\n",
        "plt.subplot(1, 2, 2)\n",
        "plt.title(\"translation length\")\n",
        "plt.hist(list(trg_length), bins=20);"
      ],
      "execution_count": 0,
      "outputs": [
        {
          "output_type": "stream",
          "text": [
            "Length distribution in Train data\n"
          ],
          "name": "stdout"
        },
        {
          "output_type": "display_data",
          "data": {
            "image/png": "[encoded data removed]",
            "text/plain": [
              "<Figure size 576x288 with 2 Axes>"
            ]
          },
          "metadata": {
            "tags": []
          }
        }
      ]
    },
    {
      "cell_type": "code",
      "metadata": {
        "id": "rtsd-2-oFqxj",
        "colab_type": "code",
        "outputId": "f149992c-c370-4e55-8a1f-ac1e347356f0",
        "colab": {
          "base_uri": "https://localhost:8080/",
          "height": 298
        }
      },
      "source": [
        "src_length = map(len, [vars(x)['src'] for x in test_data.examples])\n",
        "trg_length = map(len, [vars(x)['trg'] for x in test_data.examples])\n",
        "\n",
        "print('Length distribution in Test data')\n",
        "plt.figure(figsize=[8, 4])\n",
        "plt.subplot(1, 2, 1)\n",
        "plt.title(\"source length\")\n",
        "plt.hist(list(src_length), bins=20);\n",
        "\n",
        "plt.subplot(1, 2, 2)\n",
        "plt.title(\"translation length\")\n",
        "plt.hist(list(trg_length), bins=20);"
      ],
      "execution_count": 0,
      "outputs": [
        {
          "output_type": "stream",
          "text": [
            "Length distribution in Test data\n"
          ],
          "name": "stdout"
        },
        {
          "output_type": "display_data",
          "data": {
            "image/png": "[encoded data removed]",
            "text/plain": [
              "<Figure size 576x288 with 2 Axes>"
            ]
          },
          "metadata": {
            "tags": []
          }
        }
      ]
    },
    {
      "cell_type": "markdown",
      "metadata": {
        "id": "2jsMgAhCFqxl",
        "colab_type": "text"
      },
      "source": [
        "### Model side\n",
        "__Here comes simple pipeline of NMT model learning. It almost copies the week03 practice__"
      ]
    },
    {
      "cell_type": "code",
      "metadata": {
        "id": "tzNi9qTQFqxl",
        "colab_type": "code",
        "colab": {}
      },
      "source": [
        "device = torch.device('cuda' if torch.cuda.is_available() else 'cpu')"
      ],
      "execution_count": 0,
      "outputs": []
    },
    {
      "cell_type": "code",
      "metadata": {
        "id": "459U_vQOFqxn",
        "colab_type": "code",
        "outputId": "0fe897d6-9f01-469b-b6e9-26cd3f96c61b",
        "colab": {
          "base_uri": "https://localhost:8080/",
          "height": 34
        }
      },
      "source": [
        "device"
      ],
      "execution_count": 16,
      "outputs": [
        {
          "output_type": "execute_result",
          "data": {
            "text/plain": [
              "device(type='cuda')"
            ]
          },
          "metadata": {
            "tags": []
          },
          "execution_count": 16
        }
      ]
    },
    {
      "cell_type": "code",
      "metadata": {
        "id": "D32OgApTFqxo",
        "colab_type": "code",
        "colab": {}
      },
      "source": [
        "def _len_sort_key(x):\n",
        "    return len(x.src)\n",
        "\n",
        "BATCH_SIZE = 128\n",
        "\n",
        "train_iterator, valid_iterator, test_iterator = BucketIterator.splits(\n",
        "    (train_data, valid_data, test_data), \n",
        "    batch_size = BATCH_SIZE, \n",
        "    device = device,\n",
        "    sort_key=_len_sort_key\n",
        ")"
      ],
      "execution_count": 0,
      "outputs": []
    },
    {
      "cell_type": "code",
      "metadata": {
        "id": "3ELUnjsvFqxq",
        "colab_type": "code",
        "outputId": "1246edfa-ee60-4108-f401-cf2b78b3418e",
        "colab": {
          "base_uri": "https://localhost:8080/",
          "height": 102
        }
      },
      "source": [
        "for x in train_iterator:\n",
        "    break\n",
        "print(x)\n",
        "print(x.src.shape, x.trg.shape)"
      ],
      "execution_count": 0,
      "outputs": [
        {
          "output_type": "stream",
          "text": [
            "\n",
            "[torchtext.data.batch.Batch of size 128]\n",
            "\t[.trg]:[torch.cuda.LongTensor of size 40x128 (GPU 0)]\n",
            "\t[.src]:[torch.cuda.LongTensor of size 41x128 (GPU 0)]\n",
            "torch.Size([41, 128]) torch.Size([40, 128])\n"
          ],
          "name": "stdout"
        }
      ]
    },
    {
      "cell_type": "code",
      "metadata": {
        "id": "UjmZ3NDXFqxr",
        "colab_type": "code",
        "colab": {}
      },
      "source": [
        "import my_network\n",
        "Encoder = my_network.Encoder\n",
        "Decoder = my_network.Decoder\n",
        "Seq2Seq = my_network.Seq2Seq"
      ],
      "execution_count": 0,
      "outputs": []
    },
    {
      "cell_type": "code",
      "metadata": {
        "id": "psNZUmGHpJOA",
        "colab_type": "code",
        "outputId": "3e781e6e-f07e-4a63-d084-bf24a422fade",
        "colab": {
          "base_uri": "https://localhost:8080/",
          "height": 34
        }
      },
      "source": [
        "import imp\n",
        "imp.reload(my_network)"
      ],
      "execution_count": 0,
      "outputs": [
        {
          "output_type": "execute_result",
          "data": {
            "text/plain": [
              "<module 'my_network' from '/content/my_network.py'>"
            ]
          },
          "metadata": {
            "tags": []
          },
          "execution_count": 43
        }
      ]
    },
    {
      "cell_type": "code",
      "metadata": {
        "id": "Nj6gkfPwFqxs",
        "colab_type": "code",
        "colab": {}
      },
      "source": [
        "INPUT_DIM = len(SRC.vocab)\n",
        "OUTPUT_DIM = len(TRG.vocab)\n",
        "ENC_EMB_DIM = 256\n",
        "DEC_EMB_DIM = 256\n",
        "HID_DIM = 512\n",
        "N_LAYERS = 2\n",
        "ENC_DROPOUT = 0.5\n",
        "DEC_DROPOUT = 0.5\n",
        "\n",
        "enc = Encoder(INPUT_DIM, ENC_EMB_DIM, HID_DIM, N_LAYERS, ENC_DROPOUT)\n",
        "dec = Decoder(OUTPUT_DIM, DEC_EMB_DIM, HID_DIM, N_LAYERS, DEC_DROPOUT)\n",
        "\n",
        "# dont forget to put the model to the right device\n",
        "model = Seq2Seq(enc, dec, device).to(device)"
      ],
      "execution_count": 0,
      "outputs": []
    },
    {
      "cell_type": "code",
      "metadata": {
        "id": "buYoIRhhFqxu",
        "colab_type": "code",
        "outputId": "afc572d4-d4c7-4376-cb12-fdf1fe559363",
        "colab": {
          "base_uri": "https://localhost:8080/",
          "height": 238
        }
      },
      "source": [
        "def init_weights(m):\n",
        "    # <YOUR CODE HERE>\n",
        "    for name, param in m.named_parameters():\n",
        "        nn.init.uniform_(param, -0.08, 0.08)\n",
        "        \n",
        "model.apply(init_weights)"
      ],
      "execution_count": 0,
      "outputs": [
        {
          "output_type": "execute_result",
          "data": {
            "text/plain": [
              "Seq2Seq(\n",
              "  (encoder): Encoder(\n",
              "    (embedding): Embedding(6106, 256)\n",
              "    (rnn): LSTM(256, 512, num_layers=2, dropout=0.5)\n",
              "    (dropout): Dropout(p=0.5, inplace=False)\n",
              "  )\n",
              "  (decoder): Decoder(\n",
              "    (embedding): Embedding(5938, 256)\n",
              "    (rnn): LSTM(256, 512, num_layers=2, dropout=0.5)\n",
              "    (out): Linear(in_features=512, out_features=5938, bias=True)\n",
              "    (dropout): Dropout(p=0.5, inplace=False)\n",
              "  )\n",
              ")"
            ]
          },
          "metadata": {
            "tags": []
          },
          "execution_count": 16
        }
      ]
    },
    {
      "cell_type": "code",
      "metadata": {
        "id": "nwnMxCvFFqxv",
        "colab_type": "code",
        "outputId": "c662487b-2f99-418c-f661-87e6f1b0cdf9",
        "colab": {
          "base_uri": "https://localhost:8080/",
          "height": 34
        }
      },
      "source": [
        "def count_parameters(model):\n",
        "    return sum(p.numel() for p in model.parameters() if p.requires_grad)\n",
        "\n",
        "print(f'The model has {count_parameters(model):,} trainable parameters')"
      ],
      "execution_count": 0,
      "outputs": [
        {
          "output_type": "stream",
          "text": [
            "The model has 14,873,382 trainable parameters\n"
          ],
          "name": "stdout"
        }
      ]
    },
    {
      "cell_type": "code",
      "metadata": {
        "id": "1Jry615DFqxw",
        "colab_type": "code",
        "colab": {}
      },
      "source": [
        "PAD_IDX = TRG.vocab.stoi['<pad>']\n",
        "optimizer = optim.Adam(model.parameters())\n",
        "criterion = nn.CrossEntropyLoss(ignore_index = PAD_IDX)"
      ],
      "execution_count": 0,
      "outputs": []
    },
    {
      "cell_type": "code",
      "metadata": {
        "id": "Eqoay3yYFqxx",
        "colab_type": "code",
        "colab": {}
      },
      "source": [
        "def train(model, iterator, optimizer, criterion, clip, train_history=None, valid_history=None):\n",
        "    model.train()\n",
        "    \n",
        "    epoch_loss = 0\n",
        "    history = []\n",
        "    for i, batch in enumerate(iterator):\n",
        "        \n",
        "        src = batch.src\n",
        "        trg = batch.trg\n",
        "        \n",
        "        optimizer.zero_grad()\n",
        "        \n",
        "        output = model(src, trg)\n",
        "        \n",
        "        #trg = [trg sent len, batch size]\n",
        "        #output = [trg sent len, batch size, output dim]\n",
        "        \n",
        "        output = output[1:].view(-1, output.shape[-1])\n",
        "        trg = trg[1:].view(-1)\n",
        "        \n",
        "        #trg = [(trg sent len - 1) * batch size]\n",
        "        #output = [(trg sent len - 1) * batch size, output dim]\n",
        "        \n",
        "        loss = criterion(output, trg)\n",
        "        \n",
        "        loss.backward()\n",
        "        \n",
        "        # Let's clip the gradient\n",
        "        torch.nn.utils.clip_grad_norm_(model.parameters(), clip)\n",
        "        \n",
        "        optimizer.step()\n",
        "        \n",
        "        epoch_loss += loss.item()\n",
        "        \n",
        "        history.append(loss.cpu().data.numpy())\n",
        "        if (i+1)%10==0:\n",
        "            fig, ax = plt.subplots(nrows=1, ncols=2, figsize=(12, 8))\n",
        "\n",
        "            clear_output(True)\n",
        "            ax[0].plot(history, label='train loss')\n",
        "            ax[0].set_xlabel('Batch')\n",
        "            ax[0].set_title('Train loss')\n",
        "            if train_history is not None:\n",
        "                ax[1].plot(train_history, label='general train history')\n",
        "                ax[1].set_xlabel('Epoch')\n",
        "            if valid_history is not None:\n",
        "                ax[1].plot(valid_history, label='general valid history')\n",
        "            plt.legend()\n",
        "            \n",
        "            plt.show()\n",
        "\n",
        "        \n",
        "    return epoch_loss / len(iterator)"
      ],
      "execution_count": 0,
      "outputs": []
    },
    {
      "cell_type": "code",
      "metadata": {
        "id": "GiEeIWDRFqxy",
        "colab_type": "code",
        "colab": {}
      },
      "source": [
        "def evaluate(model, iterator, criterion):\n",
        "    \n",
        "    model.eval()\n",
        "    \n",
        "    epoch_loss = 0\n",
        "    \n",
        "    history = []\n",
        "    \n",
        "    with torch.no_grad():\n",
        "    \n",
        "        for i, batch in enumerate(iterator):\n",
        "\n",
        "            src = batch.src\n",
        "            trg = batch.trg\n",
        "\n",
        "            output = model(src, trg, 0) #turn off teacher forcing\n",
        "\n",
        "            #trg = [trg sent len, batch size]\n",
        "            #output = [trg sent len, batch size, output dim]\n",
        "\n",
        "            output = output[1:].view(-1, output.shape[-1])\n",
        "            trg = trg[1:].view(-1)\n",
        "\n",
        "            #trg = [(trg sent len - 1) * batch size]\n",
        "            #output = [(trg sent len - 1) * batch size, output dim]\n",
        "\n",
        "            loss = criterion(output, trg)\n",
        "            \n",
        "            epoch_loss += loss.item()\n",
        "        \n",
        "    return epoch_loss / len(iterator)"
      ],
      "execution_count": 0,
      "outputs": []
    },
    {
      "cell_type": "code",
      "metadata": {
        "id": "_gexVtUJFqxz",
        "colab_type": "code",
        "colab": {}
      },
      "source": [
        "def epoch_time(start_time, end_time):\n",
        "    elapsed_time = end_time - start_time\n",
        "    elapsed_mins = int(elapsed_time / 60)\n",
        "    elapsed_secs = int(elapsed_time - (elapsed_mins * 60))\n",
        "    return elapsed_mins, elapsed_secs"
      ],
      "execution_count": 0,
      "outputs": []
    },
    {
      "cell_type": "code",
      "metadata": {
        "id": "C6w5YwaaFqx0",
        "colab_type": "code",
        "colab": {}
      },
      "source": [
        "train_history = []\n",
        "valid_history = []\n",
        "\n",
        "N_EPOCHS = 10\n",
        "CLIP = 1\n",
        "\n",
        "best_valid_loss = float('inf')"
      ],
      "execution_count": 0,
      "outputs": []
    },
    {
      "cell_type": "code",
      "metadata": {
        "id": "v3D4YS0SFqx2",
        "colab_type": "code",
        "outputId": "2fe1828f-1f9f-46e4-f232-9c74b2e60018",
        "colab": {
          "base_uri": "https://localhost:8080/",
          "height": 564
        }
      },
      "source": [
        "for epoch in range(N_EPOCHS):\n",
        "    \n",
        "    start_time = time.time()\n",
        "    \n",
        "    train_loss = train(model, train_iterator, optimizer, criterion, CLIP, train_history, valid_history)\n",
        "    valid_loss = evaluate(model, valid_iterator, criterion)\n",
        "    \n",
        "    end_time = time.time()\n",
        "    \n",
        "    epoch_mins, epoch_secs = epoch_time(start_time, end_time)\n",
        "    \n",
        "    if valid_loss < best_valid_loss:\n",
        "        best_valid_loss = valid_loss\n",
        "        torch.save(model.state_dict(), 'tut1-model.pt')\n",
        "    \n",
        "    train_history.append(train_loss)\n",
        "    valid_history.append(valid_loss)\n",
        "    print(f'Epoch: {epoch+1:02} | Time: {epoch_mins}m {epoch_secs}s')\n",
        "    print(f'\\tTrain Loss: {train_loss:.3f} | Train PPL: {math.exp(train_loss):7.3f}')\n",
        "    print(f'\\t Val. Loss: {valid_loss:.3f} |  Val. PPL: {math.exp(valid_loss):7.3f}')"
      ],
      "execution_count": 0,
      "outputs": [
        {
          "output_type": "display_data",
          "data": {
            "image/png": "[encoded data removed]",
            "text/plain": [
              "<Figure size 864x576 with 2 Axes>"
            ]
          },
          "metadata": {
            "tags": []
          }
        },
        {
          "output_type": "stream",
          "text": [
            "Epoch: 10 | Time: 3m 8s\n",
            "\tTrain Loss: 2.936 | Train PPL:  18.845\n",
            "\t Val. Loss: 4.635 |  Val. PPL: 103.043\n"
          ],
          "name": "stdout"
        }
      ]
    },
    {
      "cell_type": "markdown",
      "metadata": {
        "id": "Ufwxd90sFqx4",
        "colab_type": "text"
      },
      "source": [
        "__Let's take a look at our network quality__:"
      ]
    },
    {
      "cell_type": "code",
      "metadata": {
        "id": "QPmFSwfsFqx4",
        "colab_type": "code",
        "colab": {}
      },
      "source": [
        "import utils\n",
        "import imp\n",
        "imp.reload(utils)\n",
        "generate_translation = utils.generate_translation\n",
        "remove_tech_tokens = utils.remove_tech_tokens\n",
        "get_text = utils.get_text\n",
        "flatten = utils.flatten"
      ],
      "execution_count": 0,
      "outputs": []
    },
    {
      "cell_type": "code",
      "metadata": {
        "id": "mOxd-rFyFqx5",
        "colab_type": "code",
        "colab": {}
      },
      "source": [
        "batch = next(iter(test_iterator))"
      ],
      "execution_count": 0,
      "outputs": []
    },
    {
      "cell_type": "code",
      "metadata": {
        "id": "-Ca66skQFqx6",
        "colab_type": "code",
        "outputId": "0a8cc583-41c3-406f-a1b2-77e3a7009755",
        "colab": {
          "base_uri": "https://localhost:8080/",
          "height": 119
        }
      },
      "source": [
        "for idx in [1,2]:\n",
        "    src = batch.src[:, idx:idx+1]\n",
        "    trg = batch.trg[:, idx:idx+1]\n",
        "    generate_translation(src, trg, model, TRG.vocab)"
      ],
      "execution_count": 0,
      "outputs": [
        {
          "output_type": "stream",
          "text": [
            "Original: guests can enjoy the on - site restaurant .\n",
            "Generated: woodbridge the hotel features a restaurant and a bar . .\n",
            "\n",
            "Original: free private parking is available .\n",
            "Generated: woodbridge free private parking is available on site . .\n",
            "\n"
          ],
          "name": "stdout"
        }
      ]
    },
    {
      "cell_type": "code",
      "metadata": {
        "id": "tkL6TJbjFqx7",
        "colab_type": "code",
        "colab": {}
      },
      "source": [
        "from nltk.translate.bleu_score import corpus_bleu\n",
        "\n",
        "#     \"\"\" Estimates corpora-level BLEU score of model's translations given inp and reference out \"\"\"\n",
        "#     translations, _ = model.translate_lines(inp_lines, **flags)\n",
        "#     # Note: if you experience out-of-memory error, split input lines into batches and translate separately\n",
        "#     return corpus_bleu([[ref] for ref in out_lines], translations) * 100"
      ],
      "execution_count": 0,
      "outputs": []
    },
    {
      "cell_type": "code",
      "metadata": {
        "id": "Kk2EjNy6Fqx8",
        "colab_type": "code",
        "colab": {}
      },
      "source": [
        "import tqdm"
      ],
      "execution_count": 0,
      "outputs": []
    },
    {
      "cell_type": "code",
      "metadata": {
        "id": "T3ywLTLcFqx9",
        "colab_type": "code",
        "outputId": "36e218a8-a4f1-4ab4-8a08-c8226c6dadd5",
        "colab": {
          "base_uri": "https://localhost:8080/",
          "height": 34
        }
      },
      "source": [
        "original_text = []\n",
        "generated_text = []\n",
        "model.eval()\n",
        "with torch.no_grad():\n",
        "\n",
        "    for i, batch in tqdm.tqdm(enumerate(test_iterator)):\n",
        "\n",
        "        src = batch.src\n",
        "        trg = batch.trg\n",
        "\n",
        "        output = model(src, trg, 0) #turn off teacher forcing\n",
        "\n",
        "        #trg = [trg sent len, batch size]\n",
        "        #output = [trg sent len, batch size, output dim]\n",
        "\n",
        "        output = output.argmax(dim=-1)\n",
        "        \n",
        "        original_text.extend([get_text(x, TRG.vocab) for x in trg.cpu().numpy().T])\n",
        "        generated_text.extend([get_text(x, TRG.vocab) for x in output.detach().cpu().numpy().T])\n",
        "\n",
        "# original_text = flatten(original_text)\n",
        "# generated_text = flatten(generated_text)"
      ],
      "execution_count": 0,
      "outputs": [
        {
          "output_type": "stream",
          "text": [
            "59it [00:06,  8.97it/s]\n"
          ],
          "name": "stderr"
        }
      ]
    },
    {
      "cell_type": "code",
      "metadata": {
        "id": "tLTN3_uOFqx-",
        "colab_type": "code",
        "outputId": "9369d873-a228-4158-a445-2f27ed12a12e",
        "colab": {
          "base_uri": "https://localhost:8080/",
          "height": 34
        }
      },
      "source": [
        "corpus_bleu([[text] for text in original_text], generated_text) * 100"
      ],
      "execution_count": 0,
      "outputs": [
        {
          "output_type": "execute_result",
          "data": {
            "text/plain": [
              "14.673700180376551"
            ]
          },
          "metadata": {
            "tags": []
          },
          "execution_count": 59
        }
      ]
    },
    {
      "cell_type": "markdown",
      "metadata": {
        "id": "YZz0UBIqFqyA",
        "colab_type": "text"
      },
      "source": [
        "Baseline solution BLEU score is quite low. Try to achieve at least __18__ BLEU on the test set. \n",
        "The checkpoints are:\n",
        "\n",
        "* __18__ - minimal score to submit the homework, 30% of points\n",
        "\n",
        "* __20__ - good score, 70% of points\n",
        "\n",
        "* __25__ - excellent score, 100% of points"
      ]
    },
    {
      "cell_type": "markdown",
      "metadata": {
        "id": "M3PfsR_CXfdj",
        "colab_type": "text"
      },
      "source": [
        "# Теперь начнём своё исследование"
      ]
    },
    {
      "cell_type": "markdown",
      "metadata": {
        "id": "KSKjmdZCfNJk",
        "colab_type": "text"
      },
      "source": [
        "## BPE"
      ]
    },
    {
      "cell_type": "code",
      "metadata": {
        "id": "IpCsaZp1fRmo",
        "colab_type": "code",
        "outputId": "f2ca8853-42fe-4db9-dfce-52379ace0967",
        "colab": {
          "base_uri": "https://localhost:8080/",
          "height": 34
        }
      },
      "source": [
        "!pip install subword_nmt"
      ],
      "execution_count": 0,
      "outputs": [
        {
          "output_type": "stream",
          "text": [
            "Requirement already satisfied: subword_nmt in /usr/local/lib/python3.6/dist-packages (0.3.7)\n"
          ],
          "name": "stdout"
        }
      ]
    },
    {
      "cell_type": "code",
      "metadata": {
        "id": "xFFg61UyiIn-",
        "colab_type": "code",
        "colab": {}
      },
      "source": [
        "from subword_nmt.learn_bpe import learn_bpe\n",
        "from subword_nmt.apply_bpe import BPE"
      ],
      "execution_count": 0,
      "outputs": []
    },
    {
      "cell_type": "code",
      "metadata": {
        "id": "OH-Bw8x2iK1f",
        "colab_type": "code",
        "colab": {}
      },
      "source": [
        "# prepare data for bpe\n",
        "with open('train.ru', 'w') as f_src,  open('train.en', 'w') as f_dst:\n",
        "    for line in train_data.examples:\n",
        "        src_line, dst_line = line.src, line.trg\n",
        "        f_src.write(\" \".join(src_line) + '\\n')\n",
        "        f_dst.write(\" \".join(dst_line) + '\\n')"
      ],
      "execution_count": 0,
      "outputs": []
    },
    {
      "cell_type": "code",
      "metadata": {
        "id": "ZnIqbOw8lEUN",
        "colab_type": "code",
        "colab": {}
      },
      "source": [
        "# Build vocabulary\n",
        "bpe = {}\n",
        "for lang in ['en', 'ru']:\n",
        "    learn_bpe(open('./train.' + lang), open('bpe_rules.' + lang, 'w'), num_symbols=5000)\n",
        "    bpe[lang] = BPE(open('./bpe_rules.' + lang))"
      ],
      "execution_count": 0,
      "outputs": []
    },
    {
      "cell_type": "code",
      "metadata": {
        "id": "97a2Spy7l6y5",
        "colab_type": "code",
        "colab": {}
      },
      "source": [
        "# Apply bpe and prepare data\n",
        "for dataset in [train_data, valid_data, test_data]:\n",
        "    for line in dataset:\n",
        "        line.src = (bpe['ru'].process_line(\" \".join(line.src))).split(\" \")\n",
        "        line.trg = (bpe['en'].process_line(\" \".join(line.trg))).split(\" \")"
      ],
      "execution_count": 0,
      "outputs": []
    },
    {
      "cell_type": "code",
      "metadata": {
        "id": "NMrzUG-EmkmW",
        "colab_type": "code",
        "outputId": "b7b0d7f4-b9a7-445c-c5de-a51e68c70aa1",
        "colab": {
          "base_uri": "https://localhost:8080/",
          "height": 54
        }
      },
      "source": [
        "# Let's look at it \n",
        "print(train_data.examples[0].src, train_data.examples[0].trg)"
      ],
      "execution_count": 0,
      "outputs": [
        {
          "output_type": "stream",
          "text": [
            "['апартаменты', 'расположены', 'в', '100', 'метрах', 'от', 'станции', 'метро', 'ca@@', 'v@@', 'ou@@', 'r', 'и', 'менее', 'чем', 'в', '10', 'минутах', 'ходьбы', 'от', 'центрального', 'железнодорожного', 'вокзала', 'термини', '.'] ['the', 'property', 'is', '100', 'metres', 'from', 'cav@@', 'our', 'metro', 'station', 'and', 'less', 'than', '10', 'minutes', '’', 'walk', 'from', 'termini', 'central', 'station', '.']\n"
          ],
          "name": "stdout"
        }
      ]
    },
    {
      "cell_type": "code",
      "metadata": {
        "id": "6Gn2lJ5AmlEV",
        "colab_type": "code",
        "colab": {}
      },
      "source": [
        "SRC.build_vocab(train_data, min_freq = 2)\n",
        "TRG.build_vocab(train_data, min_freq = 2)"
      ],
      "execution_count": 0,
      "outputs": []
    },
    {
      "cell_type": "code",
      "metadata": {
        "id": "7R649WgL98A3",
        "colab_type": "code",
        "outputId": "e39a0b87-870b-4fbb-8c57-b5d5aeafb0eb",
        "colab": {
          "base_uri": "https://localhost:8080/",
          "height": 34
        }
      },
      "source": [
        "SRC.vocab.itos[::1000]"
      ],
      "execution_count": 0,
      "outputs": [
        {
          "output_type": "execute_result",
          "data": {
            "text/plain": [
              "['<unk>', 'ских', 'окна', ';', 'автомоб@@', 'ляр@@']"
            ]
          },
          "metadata": {
            "tags": []
          },
          "execution_count": 17
        }
      ]
    },
    {
      "cell_type": "code",
      "metadata": {
        "id": "1wk90hma-AUM",
        "colab_type": "code",
        "outputId": "4b11d50a-8a2e-45c9-d588-4fe0986cb9a7",
        "colab": {
          "base_uri": "https://localhost:8080/",
          "height": 34
        }
      },
      "source": [
        "TRG.vocab.itos[::1000]"
      ],
      "execution_count": 0,
      "outputs": [
        {
          "output_type": "execute_result",
          "data": {
            "text/plain": [
              "['<unk>', 'more', 'ela', 'bran@@', 'residency']"
            ]
          },
          "metadata": {
            "tags": []
          },
          "execution_count": 18
        }
      ]
    },
    {
      "cell_type": "code",
      "metadata": {
        "id": "xmlE5RcAoKUr",
        "colab_type": "code",
        "outputId": "f2fe5fed-e3f7-44cd-c754-8648ee43876e",
        "colab": {
          "base_uri": "https://localhost:8080/",
          "height": 51
        }
      },
      "source": [
        "print(f\"Unique tokens in source (ru) vocabulary: {len(SRC.vocab)}\")\n",
        "print(f\"Unique tokens in target (en) vocabulary: {len(TRG.vocab)}\")"
      ],
      "execution_count": 0,
      "outputs": [
        {
          "output_type": "stream",
          "text": [
            "Unique tokens in source (ru) vocabulary: 5049\n",
            "Unique tokens in target (en) vocabulary: 4889\n"
          ],
          "name": "stdout"
        }
      ]
    },
    {
      "cell_type": "code",
      "metadata": {
        "id": "pInaFgdGoYXu",
        "colab_type": "code",
        "colab": {}
      },
      "source": [
        "def _len_sort_key(x):\n",
        "    return len(x.src)\n",
        "\n",
        "BATCH_SIZE = 128\n",
        "\n",
        "train_iterator, valid_iterator, test_iterator = BucketIterator.splits(\n",
        "    (train_data, valid_data, test_data), \n",
        "    batch_size = BATCH_SIZE, \n",
        "    device = device,\n",
        "    sort_key=_len_sort_key\n",
        ")"
      ],
      "execution_count": 0,
      "outputs": []
    },
    {
      "cell_type": "code",
      "metadata": {
        "id": "-qfZ7rTwpX9X",
        "colab_type": "code",
        "colab": {}
      },
      "source": [
        "INPUT_DIM = len(SRC.vocab)\n",
        "OUTPUT_DIM = len(TRG.vocab)\n",
        "ENC_EMB_DIM = 256\n",
        "DEC_EMB_DIM = 256\n",
        "HID_DIM = 512\n",
        "N_LAYERS = 2\n",
        "ENC_DROPOUT = 0.5\n",
        "DEC_DROPOUT = 0.5\n",
        "\n",
        "enc = Encoder(INPUT_DIM, ENC_EMB_DIM, HID_DIM, N_LAYERS, ENC_DROPOUT)\n",
        "dec = Decoder(OUTPUT_DIM, DEC_EMB_DIM, HID_DIM, N_LAYERS, DEC_DROPOUT)\n",
        "\n",
        "# dont forget to put the model to the right device\n",
        "model = Seq2Seq(enc, dec, device).to(device)"
      ],
      "execution_count": 0,
      "outputs": []
    },
    {
      "cell_type": "code",
      "metadata": {
        "id": "kaWDWWMupvEq",
        "colab_type": "code",
        "colab": {}
      },
      "source": [
        "train_history = []\n",
        "valid_history = []\n",
        "\n",
        "N_EPOCHS = 10\n",
        "CLIP = 1\n",
        "\n",
        "best_valid_loss = float('inf')"
      ],
      "execution_count": 0,
      "outputs": []
    },
    {
      "cell_type": "code",
      "metadata": {
        "id": "N9ZvBbcQp2k0",
        "colab_type": "code",
        "outputId": "6ea5fc64-b93f-403d-e92d-71d393799855",
        "colab": {
          "base_uri": "https://localhost:8080/",
          "height": 564
        }
      },
      "source": [
        "for epoch in range(N_EPOCHS):\n",
        "    \n",
        "    start_time = time.time()\n",
        "    \n",
        "    train_loss = train(model, train_iterator, optimizer, criterion, CLIP, train_history, valid_history)\n",
        "    valid_loss = evaluate(model, valid_iterator, criterion)\n",
        "    \n",
        "    end_time = time.time()\n",
        "    \n",
        "    epoch_mins, epoch_secs = epoch_time(start_time, end_time)\n",
        "    \n",
        "    if valid_loss < best_valid_loss:\n",
        "        best_valid_loss = valid_loss\n",
        "        torch.save(model.state_dict(), 'tut2-model.pt')\n",
        "    \n",
        "    train_history.append(train_loss)\n",
        "    valid_history.append(valid_loss)\n",
        "    print(f'Epoch: {epoch+1:02} | Time: {epoch_mins}m {epoch_secs}s')\n",
        "    print(f'\\tTrain Loss: {train_loss:.3f} | Train PPL: {math.exp(train_loss):7.3f}')\n",
        "    print(f'\\t Val. Loss: {valid_loss:.3f} |  Val. PPL: {math.exp(valid_loss):7.3f}')"
      ],
      "execution_count": 0,
      "outputs": [
        {
          "output_type": "display_data",
          "data": {
            "image/png": "[encoded data removed]",
            "text/plain": [
              "<Figure size 864x576 with 2 Axes>"
            ]
          },
          "metadata": {
            "tags": []
          }
        },
        {
          "output_type": "stream",
          "text": [
            "Epoch: 10 | Time: 3m 19s\n",
            "\tTrain Loss: 8.495 | Train PPL: 4888.854\n",
            "\t Val. Loss: 8.495 |  Val. PPL: 4889.993\n"
          ],
          "name": "stdout"
        }
      ]
    },
    {
      "cell_type": "code",
      "metadata": {
        "id": "GK-CFgg-AnYR",
        "colab_type": "code",
        "colab": {}
      },
      "source": [
        "#model = TheModelClass(*args, **kwargs)\n",
        "#model.load_state_dict(torch.load(PATH))\n",
        "#model.eval()"
      ],
      "execution_count": 0,
      "outputs": []
    },
    {
      "cell_type": "code",
      "metadata": {
        "id": "-4DhVrP2p6zg",
        "colab_type": "code",
        "colab": {}
      },
      "source": [
        "batch = next(iter(test_iterator))"
      ],
      "execution_count": 0,
      "outputs": []
    },
    {
      "cell_type": "code",
      "metadata": {
        "id": "FpGuBpENqRmK",
        "colab_type": "code",
        "outputId": "0ccdb405-be08-4d37-eaf3-e9360e3c99ae",
        "colab": {
          "base_uri": "https://localhost:8080/",
          "height": 139
        }
      },
      "source": [
        "for idx in [1,2]:\n",
        "    src = batch.src[:, idx:idx+1]\n",
        "    trg = batch.trg[:, idx:idx+1]\n",
        "    generate_translation(src, trg, model, TRG.vocab)"
      ],
      "execution_count": 0,
      "outputs": [
        {
          "output_type": "stream",
          "text": [
            "Original: it has a café and is set close to the city ’ s bars and restaurants .\n",
            "Generated: uty sia sia hof environ@@ environ@@ here decorated decorated decorated many shops hot@@ are sher@@ approximately pattaya pattaya catalunya\n",
            "\n",
            "Original: it serves a daily continental breakfast .\n",
            "Generated: uty mpi@@ sia sia hof hof thouse environ@@ thouse inn inn kitchenette ło@@ nac mah@@ provided ts ego ego\n",
            "\n"
          ],
          "name": "stdout"
        }
      ]
    },
    {
      "cell_type": "code",
      "metadata": {
        "id": "PF5hcrJzqU_Z",
        "colab_type": "code",
        "outputId": "b0851a88-f6c8-4af6-e950-0daffe527c75",
        "colab": {
          "base_uri": "https://localhost:8080/",
          "height": 34
        }
      },
      "source": [
        "original_text = []\n",
        "generated_text = []\n",
        "model.eval()\n",
        "with torch.no_grad():\n",
        "\n",
        "    for i, batch in tqdm.tqdm(enumerate(test_iterator)):\n",
        "\n",
        "        src = batch.src\n",
        "        trg = batch.trg\n",
        "\n",
        "        output = model(src, trg, 0) #turn off teacher forcing\n",
        "\n",
        "        #trg = [trg sent len, batch size]\n",
        "        #output = [trg sent len, batch size, output dim]\n",
        "\n",
        "        output = output.argmax(dim=-1)\n",
        "        \n",
        "        original_text.extend([get_text(x, TRG.vocab) for x in trg.cpu().numpy().T])\n",
        "        generated_text.extend([get_text(x, TRG.vocab) for x in output.detach().cpu().numpy().T])\n",
        "\n",
        "# original_text = flatten(original_text)\n",
        "# generated_text = flatten(generated_text)"
      ],
      "execution_count": 0,
      "outputs": [
        {
          "output_type": "stream",
          "text": [
            "59it [00:06,  8.77it/s]\n"
          ],
          "name": "stderr"
        }
      ]
    },
    {
      "cell_type": "code",
      "metadata": {
        "id": "L7MZKldRqYTO",
        "colab_type": "code",
        "outputId": "8a145edb-e166-4691-ffb9-5588453a71ef",
        "colab": {
          "base_uri": "https://localhost:8080/",
          "height": 102
        }
      },
      "source": [
        "corpus_bleu([[text] for text in original_text], generated_text) * 100"
      ],
      "execution_count": 0,
      "outputs": [
        {
          "output_type": "stream",
          "text": [
            "/usr/local/lib/python3.6/dist-packages/nltk/translate/bleu_score.py:490: UserWarning: \n",
            "Corpus/Sentence contains 0 counts of 2-gram overlaps.\n",
            "BLEU scores might be undesirable; use SmoothingFunction().\n",
            "  warnings.warn(_msg)\n"
          ],
          "name": "stderr"
        },
        {
          "output_type": "execute_result",
          "data": {
            "text/plain": [
              "24.7228653363675"
            ]
          },
          "metadata": {
            "tags": []
          },
          "execution_count": 44
        }
      ]
    },
    {
      "cell_type": "markdown",
      "metadata": {
        "id": "Lo11_jAhGo_o",
        "colab_type": "text"
      },
      "source": [
        "# Что-то очень странное - графики выглядят ужасно, а BLEU огромный "
      ]
    },
    {
      "cell_type": "markdown",
      "metadata": {
        "id": "eQHE11RYG296",
        "colab_type": "text"
      },
      "source": [
        "Нашёл в интернете другой BPE, попробуем "
      ]
    },
    {
      "cell_type": "code",
      "metadata": {
        "id": "I-OQB0uXHHXq",
        "colab_type": "code",
        "outputId": "76be1a81-68cc-46c5-ee4a-2d7898de5e09",
        "colab": {
          "base_uri": "https://localhost:8080/",
          "height": 666
        }
      },
      "source": [
        "!pip install bpemb"
      ],
      "execution_count": 3,
      "outputs": [
        {
          "output_type": "stream",
          "text": [
            "Collecting bpemb\n",
            "  Downloading https://files.pythonhosted.org/packages/bc/70/468a9652095b370f797ed37ff77e742b11565c6fd79eaeca5f2e50b164a7/bpemb-0.3.0-py3-none-any.whl\n",
            "Requirement already satisfied: tqdm in /usr/local/lib/python3.6/dist-packages (from bpemb) (4.38.0)\n",
            "Collecting sentencepiece\n",
            "\u001b[?25l  Downloading https://files.pythonhosted.org/packages/74/f4/2d5214cbf13d06e7cb2c20d84115ca25b53ea76fa1f0ade0e3c9749de214/sentencepiece-0.1.85-cp36-cp36m-manylinux1_x86_64.whl (1.0MB)\n",
            "\u001b[K     |████████████████████████████████| 1.0MB 4.3MB/s \n",
            "\u001b[?25hRequirement already satisfied: requests in /usr/local/lib/python3.6/dist-packages (from bpemb) (2.21.0)\n",
            "Requirement already satisfied: gensim in /usr/local/lib/python3.6/dist-packages (from bpemb) (3.6.0)\n",
            "Requirement already satisfied: numpy in /usr/local/lib/python3.6/dist-packages (from bpemb) (1.18.2)\n",
            "Requirement already satisfied: certifi>=2017.4.17 in /usr/local/lib/python3.6/dist-packages (from requests->bpemb) (2019.11.28)\n",
            "Requirement already satisfied: idna<2.9,>=2.5 in /usr/local/lib/python3.6/dist-packages (from requests->bpemb) (2.8)\n",
            "Requirement already satisfied: urllib3<1.25,>=1.21.1 in /usr/local/lib/python3.6/dist-packages (from requests->bpemb) (1.24.3)\n",
            "Requirement already satisfied: chardet<3.1.0,>=3.0.2 in /usr/local/lib/python3.6/dist-packages (from requests->bpemb) (3.0.4)\n",
            "Requirement already satisfied: six>=1.5.0 in /usr/local/lib/python3.6/dist-packages (from gensim->bpemb) (1.12.0)\n",
            "Requirement already satisfied: scipy>=0.18.1 in /usr/local/lib/python3.6/dist-packages (from gensim->bpemb) (1.4.1)\n",
            "Requirement already satisfied: smart-open>=1.2.1 in /usr/local/lib/python3.6/dist-packages (from gensim->bpemb) (1.10.0)\n",
            "Requirement already satisfied: boto3 in /usr/local/lib/python3.6/dist-packages (from smart-open>=1.2.1->gensim->bpemb) (1.12.31)\n",
            "Requirement already satisfied: google-cloud-storage in /usr/local/lib/python3.6/dist-packages (from smart-open>=1.2.1->gensim->bpemb) (1.18.1)\n",
            "Requirement already satisfied: s3transfer<0.4.0,>=0.3.0 in /usr/local/lib/python3.6/dist-packages (from boto3->smart-open>=1.2.1->gensim->bpemb) (0.3.3)\n",
            "Requirement already satisfied: jmespath<1.0.0,>=0.7.1 in /usr/local/lib/python3.6/dist-packages (from boto3->smart-open>=1.2.1->gensim->bpemb) (0.9.5)\n",
            "Requirement already satisfied: botocore<1.16.0,>=1.15.31 in /usr/local/lib/python3.6/dist-packages (from boto3->smart-open>=1.2.1->gensim->bpemb) (1.15.31)\n",
            "Requirement already satisfied: google-auth>=1.2.0 in /usr/local/lib/python3.6/dist-packages (from google-cloud-storage->smart-open>=1.2.1->gensim->bpemb) (1.7.2)\n",
            "Requirement already satisfied: google-resumable-media<0.5.0dev,>=0.3.1 in /usr/local/lib/python3.6/dist-packages (from google-cloud-storage->smart-open>=1.2.1->gensim->bpemb) (0.4.1)\n",
            "Requirement already satisfied: google-cloud-core<2.0dev,>=1.0.0 in /usr/local/lib/python3.6/dist-packages (from google-cloud-storage->smart-open>=1.2.1->gensim->bpemb) (1.0.3)\n",
            "Requirement already satisfied: python-dateutil<3.0.0,>=2.1 in /usr/local/lib/python3.6/dist-packages (from botocore<1.16.0,>=1.15.31->boto3->smart-open>=1.2.1->gensim->bpemb) (2.8.1)\n",
            "Requirement already satisfied: docutils<0.16,>=0.10 in /usr/local/lib/python3.6/dist-packages (from botocore<1.16.0,>=1.15.31->boto3->smart-open>=1.2.1->gensim->bpemb) (0.15.2)\n",
            "Requirement already satisfied: pyasn1-modules>=0.2.1 in /usr/local/lib/python3.6/dist-packages (from google-auth>=1.2.0->google-cloud-storage->smart-open>=1.2.1->gensim->bpemb) (0.2.8)\n",
            "Requirement already satisfied: rsa<4.1,>=3.1.4 in /usr/local/lib/python3.6/dist-packages (from google-auth>=1.2.0->google-cloud-storage->smart-open>=1.2.1->gensim->bpemb) (4.0)\n",
            "Requirement already satisfied: cachetools<3.2,>=2.0.0 in /usr/local/lib/python3.6/dist-packages (from google-auth>=1.2.0->google-cloud-storage->smart-open>=1.2.1->gensim->bpemb) (3.1.1)\n",
            "Requirement already satisfied: setuptools>=40.3.0 in /usr/local/lib/python3.6/dist-packages (from google-auth>=1.2.0->google-cloud-storage->smart-open>=1.2.1->gensim->bpemb) (46.0.0)\n",
            "Requirement already satisfied: google-api-core<2.0.0dev,>=1.14.0 in /usr/local/lib/python3.6/dist-packages (from google-cloud-core<2.0dev,>=1.0.0->google-cloud-storage->smart-open>=1.2.1->gensim->bpemb) (1.16.0)\n",
            "Requirement already satisfied: pyasn1<0.5.0,>=0.4.6 in /usr/local/lib/python3.6/dist-packages (from pyasn1-modules>=0.2.1->google-auth>=1.2.0->google-cloud-storage->smart-open>=1.2.1->gensim->bpemb) (0.4.8)\n",
            "Requirement already satisfied: protobuf>=3.4.0 in /usr/local/lib/python3.6/dist-packages (from google-api-core<2.0.0dev,>=1.14.0->google-cloud-core<2.0dev,>=1.0.0->google-cloud-storage->smart-open>=1.2.1->gensim->bpemb) (3.10.0)\n",
            "Requirement already satisfied: pytz in /usr/local/lib/python3.6/dist-packages (from google-api-core<2.0.0dev,>=1.14.0->google-cloud-core<2.0dev,>=1.0.0->google-cloud-storage->smart-open>=1.2.1->gensim->bpemb) (2018.9)\n",
            "Requirement already satisfied: googleapis-common-protos<2.0dev,>=1.6.0 in /usr/local/lib/python3.6/dist-packages (from google-api-core<2.0.0dev,>=1.14.0->google-cloud-core<2.0dev,>=1.0.0->google-cloud-storage->smart-open>=1.2.1->gensim->bpemb) (1.51.0)\n",
            "Installing collected packages: sentencepiece, bpemb\n",
            "Successfully installed bpemb-0.3.0 sentencepiece-0.1.85\n"
          ],
          "name": "stdout"
        }
      ]
    },
    {
      "cell_type": "code",
      "metadata": {
        "id": "sJecVIEKG2Hz",
        "colab_type": "code",
        "outputId": "f48a8bc0-5ae2-49db-e12f-a5c904f2dec7",
        "colab": {
          "base_uri": "https://localhost:8080/",
          "height": 207
        }
      },
      "source": [
        "from bpemb import BPEmb\n",
        "bpemb_en = BPEmb(lang=\"en\")\n",
        "bpemb_ru = BPEmb(lang=\"ru\")\n",
        "\n",
        "def tokenize_ru(x, tokenizer=bpemb_ru):\n",
        "    return tokenizer.encode(x.lower())\n",
        "def tokenize_en(x, tokenizer=bpemb_en):\n",
        "    return tokenizer.encode(x.lower())"
      ],
      "execution_count": 4,
      "outputs": [
        {
          "output_type": "stream",
          "text": [
            "downloading https://nlp.h-its.org/bpemb/en/en.wiki.bpe.vs10000.model\n"
          ],
          "name": "stdout"
        },
        {
          "output_type": "stream",
          "text": [
            "100%|██████████| 400869/400869 [00:00<00:00, 804541.99B/s]\n"
          ],
          "name": "stderr"
        },
        {
          "output_type": "stream",
          "text": [
            "downloading https://nlp.h-its.org/bpemb/en/en.wiki.bpe.vs10000.d100.w2v.bin.tar.gz\n"
          ],
          "name": "stdout"
        },
        {
          "output_type": "stream",
          "text": [
            "100%|██████████| 3784656/3784656 [00:00<00:00, 4167648.45B/s]\n",
            "/usr/local/lib/python3.6/dist-packages/smart_open/smart_open_lib.py:410: UserWarning: This function is deprecated, use smart_open.open instead. See the migration notes for details: https://github.com/RaRe-Technologies/smart_open/blob/master/README.rst#migrating-to-the-new-open-function\n",
            "  'See the migration notes for details: %s' % _MIGRATION_NOTES_URL\n"
          ],
          "name": "stderr"
        },
        {
          "output_type": "stream",
          "text": [
            "downloading https://nlp.h-its.org/bpemb/ru/ru.wiki.bpe.vs10000.model\n"
          ],
          "name": "stdout"
        },
        {
          "output_type": "stream",
          "text": [
            "100%|██████████| 443882/443882 [00:00<00:00, 884429.39B/s]\n"
          ],
          "name": "stderr"
        },
        {
          "output_type": "stream",
          "text": [
            "downloading https://nlp.h-its.org/bpemb/ru/ru.wiki.bpe.vs10000.d100.w2v.bin.tar.gz\n"
          ],
          "name": "stdout"
        },
        {
          "output_type": "stream",
          "text": [
            "100%|██████████| 3798344/3798344 [00:00<00:00, 4670207.69B/s]\n"
          ],
          "name": "stderr"
        }
      ]
    },
    {
      "cell_type": "code",
      "metadata": {
        "id": "t4YKKhE2Hhhw",
        "colab_type": "code",
        "colab": {}
      },
      "source": [
        "SRC = Field(tokenize=tokenize_ru,\n",
        "            init_token = '<sos>', \n",
        "            eos_token = '<eos>', \n",
        "            lower = True)\n",
        "\n",
        "TRG = Field(tokenize=tokenize_en,\n",
        "            init_token = '<sos>', \n",
        "            eos_token = '<eos>', \n",
        "            lower = True)\n",
        "\n",
        "dataset = torchtext.data.TabularDataset(\n",
        "    path='data.txt',\n",
        "    format='tsv',\n",
        "    fields=[('trg', TRG), ('src', SRC)]\n",
        ")"
      ],
      "execution_count": 0,
      "outputs": []
    },
    {
      "cell_type": "code",
      "metadata": {
        "id": "RKL8-EbFHwPm",
        "colab_type": "code",
        "colab": {}
      },
      "source": [
        "train_data, valid_data, test_data = dataset.split(split_ratio=[0.8, 0.15, 0.05])"
      ],
      "execution_count": 0,
      "outputs": []
    },
    {
      "cell_type": "code",
      "metadata": {
        "id": "nrQJG386JMOQ",
        "colab_type": "code",
        "outputId": "4aadfb97-5855-42ab-b885-606096691e04",
        "colab": {
          "base_uri": "https://localhost:8080/",
          "height": 68
        }
      },
      "source": [
        "print(f\"Number of training examples: {len(train_data.examples)}\")\n",
        "print(f\"Number of validation examples: {len(valid_data.examples)}\")\n",
        "print(f\"Number of testing examples: {len(test_data.examples)}\")"
      ],
      "execution_count": 9,
      "outputs": [
        {
          "output_type": "stream",
          "text": [
            "Number of training examples: 29260\n",
            "Number of validation examples: 1829\n",
            "Number of testing examples: 5486\n"
          ],
          "name": "stdout"
        }
      ]
    },
    {
      "cell_type": "code",
      "metadata": {
        "id": "VBF49nDZHbCC",
        "colab_type": "code",
        "colab": {}
      },
      "source": [
        "SRC.build_vocab(train_data, min_freq = 2)\n",
        "TRG.build_vocab(train_data, min_freq = 2)"
      ],
      "execution_count": 0,
      "outputs": []
    },
    {
      "cell_type": "code",
      "metadata": {
        "id": "ITmxMvVLHmzJ",
        "colab_type": "code",
        "outputId": "17847823-07a0-4b1c-e5c9-cc8081d98a7a",
        "colab": {
          "base_uri": "https://localhost:8080/",
          "height": 51
        }
      },
      "source": [
        "print(f\"Unique tokens in source (ru) vocabulary: {len(SRC.vocab)}\")\n",
        "print(f\"Unique tokens in target (en) vocabulary: {len(TRG.vocab)}\")"
      ],
      "execution_count": 11,
      "outputs": [
        {
          "output_type": "stream",
          "text": [
            "Unique tokens in source (ru) vocabulary: 5789\n",
            "Unique tokens in target (en) vocabulary: 5546\n"
          ],
          "name": "stdout"
        }
      ]
    },
    {
      "cell_type": "code",
      "metadata": {
        "id": "nPoDrbgCxx9s",
        "colab_type": "code",
        "colab": {}
      },
      "source": [
        "train_history = []\n",
        "valid_history = []\n",
        "\n",
        "N_EPOCHS = 10\n",
        "CLIP = 1\n",
        "\n",
        "best_valid_loss = float('inf')"
      ],
      "execution_count": 0,
      "outputs": []
    },
    {
      "cell_type": "code",
      "metadata": {
        "id": "qWrwWklHxy5q",
        "colab_type": "code",
        "outputId": "613a6b93-ba56-4872-f2e2-8a1aff0ebf5a",
        "colab": {
          "base_uri": "https://localhost:8080/",
          "height": 564
        }
      },
      "source": [
        "for epoch in range(N_EPOCHS):\n",
        "    \n",
        "    start_time = time.time()\n",
        "    \n",
        "    train_loss = train(model, train_iterator, optimizer, criterion, CLIP, train_history, valid_history)\n",
        "    valid_loss = evaluate(model, valid_iterator, criterion)\n",
        "    \n",
        "    end_time = time.time()\n",
        "    \n",
        "    epoch_mins, epoch_secs = epoch_time(start_time, end_time)\n",
        "    \n",
        "    if valid_loss < best_valid_loss:\n",
        "        best_valid_loss = valid_loss\n",
        "        torch.save(model.state_dict(), 'tut3-model.pt')\n",
        "    \n",
        "    train_history.append(train_loss)\n",
        "    valid_history.append(valid_loss)\n",
        "    print(f'Epoch: {epoch+1:02} | Time: {epoch_mins}m {epoch_secs}s')\n",
        "    print(f'\\tTrain Loss: {train_loss:.3f} | Train PPL: {math.exp(train_loss):7.3f}')\n",
        "    print(f'\\t Val. Loss: {valid_loss:.3f} |  Val. PPL: {math.exp(valid_loss):7.3f}')"
      ],
      "execution_count": 0,
      "outputs": [
        {
          "output_type": "display_data",
          "data": {
            "image/png": "[encoded data removed]",
            "text/plain": [
              "<Figure size 864x576 with 2 Axes>"
            ]
          },
          "metadata": {
            "tags": []
          }
        },
        {
          "output_type": "stream",
          "text": [
            "Epoch: 10 | Time: 1m 43s\n",
            "\tTrain Loss: 3.579 | Train PPL:  35.854\n",
            "\t Val. Loss: 5.743 |  Val. PPL: 312.053\n"
          ],
          "name": "stdout"
        }
      ]
    },
    {
      "cell_type": "code",
      "metadata": {
        "id": "ylliy_YV2C1j",
        "colab_type": "code",
        "outputId": "6833a2f8-fadf-4997-95e1-2cc6361fdc5a",
        "colab": {
          "base_uri": "https://localhost:8080/",
          "height": 34
        }
      },
      "source": [
        "original_text = []\n",
        "generated_text = []\n",
        "model.eval()\n",
        "with torch.no_grad():\n",
        "\n",
        "    for i, batch in tqdm.tqdm(enumerate(test_iterator)):\n",
        "\n",
        "        src = batch.src\n",
        "        trg = batch.trg\n",
        "\n",
        "        output = model(src, trg, 0) #turn off teacher forcing\n",
        "\n",
        "        #trg = [trg sent len, batch size]\n",
        "        #output = [trg sent len, batch size, output dim]\n",
        "\n",
        "        output = output.argmax(dim=-1)\n",
        "        \n",
        "        original_text.extend([get_text(x, TRG.vocab) for x in trg.cpu().numpy().T])\n",
        "        generated_text.extend([get_text(x, TRG.vocab) for x in output.detach().cpu().numpy().T])\n",
        "\n",
        "# original_text = flatten(original_text)\n",
        "# generated_text = flatten(generated_text)"
      ],
      "execution_count": 0,
      "outputs": [
        {
          "output_type": "stream",
          "text": [
            "59it [00:04, 13.10it/s]\n"
          ],
          "name": "stderr"
        }
      ]
    },
    {
      "cell_type": "code",
      "metadata": {
        "id": "F2ldhTJg2geS",
        "colab_type": "code",
        "outputId": "f4026a45-51af-4276-ba1c-b7acec883f38",
        "colab": {
          "base_uri": "https://localhost:8080/",
          "height": 34
        }
      },
      "source": [
        "corpus_bleu([[text] for text in original_text], generated_text) * 100"
      ],
      "execution_count": 0,
      "outputs": [
        {
          "output_type": "execute_result",
          "data": {
            "text/plain": [
              "9.669582617265537"
            ]
          },
          "metadata": {
            "tags": []
          },
          "execution_count": 29
        }
      ]
    },
    {
      "cell_type": "markdown",
      "metadata": {
        "id": "Xdk9rfk72mJz",
        "colab_type": "text"
      },
      "source": [
        "А тут графики - огонь, а BLEU - ужасный "
      ]
    },
    {
      "cell_type": "markdown",
      "metadata": {
        "id": "N6gV8AB_2Dtl",
        "colab_type": "text"
      },
      "source": [
        "## Attention mechanism"
      ]
    },
    {
      "cell_type": "markdown",
      "metadata": {
        "id": "uBYDR5Bz3-ob",
        "colab_type": "text"
      },
      "source": [
        "Oiginal: https://github.com/bentrevett/pytorch-seq2seq/blob/master/3%20-%20Neural%20Machine%20Translation%20by%20Jointly%20Learning%20to%20Align%20and%20Translate.ipynb"
      ]
    },
    {
      "cell_type": "code",
      "metadata": {
        "id": "lE_Ci9qj5MDg",
        "colab_type": "code",
        "colab": {}
      },
      "source": [
        "import attention"
      ],
      "execution_count": 0,
      "outputs": []
    },
    {
      "cell_type": "code",
      "metadata": {
        "id": "YvlMVjg36Cs5",
        "colab_type": "code",
        "outputId": "a19da009-01de-4cde-fbf8-4210df02104f",
        "colab": {
          "base_uri": "https://localhost:8080/",
          "height": 34
        }
      },
      "source": [
        "import imp\n",
        "imp.reload(my_network)"
      ],
      "execution_count": 0,
      "outputs": [
        {
          "output_type": "execute_result",
          "data": {
            "text/plain": [
              "<module 'my_network' from '/content/my_network.py'>"
            ]
          },
          "metadata": {
            "tags": []
          },
          "execution_count": 49
        }
      ]
    },
    {
      "cell_type": "code",
      "metadata": {
        "id": "qLnsMpqZ-ZnN",
        "colab_type": "code",
        "colab": {}
      },
      "source": [
        "def _len_sort_key(x):\n",
        "    return len(x.src)\n",
        "\n",
        "BATCH_SIZE = 100\n",
        "\n",
        "train_iterator, valid_iterator, test_iterator = BucketIterator.splits(\n",
        "    (train_data, valid_data, test_data), \n",
        "    batch_size = BATCH_SIZE, \n",
        "    device = device,\n",
        "    sort_key=_len_sort_key\n",
        ")"
      ],
      "execution_count": 0,
      "outputs": []
    },
    {
      "cell_type": "code",
      "metadata": {
        "id": "J4f91BNj3_fW",
        "colab_type": "code",
        "colab": {}
      },
      "source": [
        "Encoder = attention.Encoder_attention\n",
        "Decoder = attention.Decoder_attention\n",
        "Attention = attention.Attention\n",
        "Seq2Seq = attention.Seq2Seq_attention"
      ],
      "execution_count": 0,
      "outputs": []
    },
    {
      "cell_type": "code",
      "metadata": {
        "id": "BTvGdpyBBluV",
        "colab_type": "code",
        "colab": {}
      },
      "source": [
        "INPUT_DIM = len(SRC.vocab)\n",
        "OUTPUT_DIM = len(TRG.vocab)\n",
        "ENC_EMB_DIM = 256\n",
        "DEC_EMB_DIM = 256\n",
        "HID_DIM = 512\n",
        "N_LAYERS = 1\n",
        "ENC_DROPOUT = 0.5\n",
        "DEC_DROPOUT = 0.5\n",
        "ENC_HID_DIM = 512\n",
        "DEC_HID_DIM = 512\n",
        "\n",
        "enc = Encoder(INPUT_DIM, ENC_EMB_DIM, ENC_HID_DIM, DEC_HID_DIM, ENC_DROPOUT)\n",
        "attention_ = Attention(HID_DIM, HID_DIM)\n",
        "dec = Decoder(OUTPUT_DIM, DEC_EMB_DIM, HID_DIM, HID_DIM, DEC_DROPOUT, attention_)\n",
        "\n",
        "# dont forget to put the model to the right device\n",
        "model = Seq2Seq(enc, dec, device).to(device)"
      ],
      "execution_count": 0,
      "outputs": []
    },
    {
      "cell_type": "code",
      "metadata": {
        "id": "w5OQWnEIEmlS",
        "colab_type": "code",
        "outputId": "847eae57-c7f8-47d8-9870-1374aa50693f",
        "colab": {
          "base_uri": "https://localhost:8080/",
          "height": 323
        }
      },
      "source": [
        "def init_weights(m):\n",
        "    # <YOUR CODE HERE>\n",
        "    for name, param in m.named_parameters():\n",
        "        nn.init.uniform_(param, -0.08, 0.08)\n",
        "        \n",
        "model.apply(init_weights)"
      ],
      "execution_count": 20,
      "outputs": [
        {
          "output_type": "execute_result",
          "data": {
            "text/plain": [
              "Seq2Seq_attention(\n",
              "  (encoder): Encoder_attention(\n",
              "    (embedding): Embedding(5789, 256)\n",
              "    (rnn): GRU(256, 512, bidirectional=True)\n",
              "    (fc): Linear(in_features=1024, out_features=512, bias=True)\n",
              "    (dropout): Dropout(p=0.5, inplace=False)\n",
              "  )\n",
              "  (decoder): Decoder_attention(\n",
              "    (attention): Attention(\n",
              "      (attn): Linear(in_features=1536, out_features=512, bias=True)\n",
              "      (v): Linear(in_features=512, out_features=1, bias=False)\n",
              "    )\n",
              "    (embedding): Embedding(5546, 256)\n",
              "    (rnn): GRU(1280, 512)\n",
              "    (out): Linear(in_features=1792, out_features=5546, bias=True)\n",
              "    (dropout): Dropout(p=0.5, inplace=False)\n",
              "  )\n",
              ")"
            ]
          },
          "metadata": {
            "tags": []
          },
          "execution_count": 20
        }
      ]
    },
    {
      "cell_type": "code",
      "metadata": {
        "id": "SPPeNv1OEyv2",
        "colab_type": "code",
        "colab": {}
      },
      "source": [
        "train_history = []\n",
        "valid_history = []\n",
        "\n",
        "N_EPOCHS = 7\n",
        "CLIP = 1\n",
        "\n",
        "best_valid_loss = float('inf')"
      ],
      "execution_count": 0,
      "outputs": []
    },
    {
      "cell_type": "code",
      "metadata": {
        "id": "Iw5-hp61E8id",
        "colab_type": "code",
        "outputId": "7c43766b-648c-4254-90f3-cdcd5c56d3c1",
        "colab": {
          "base_uri": "https://localhost:8080/",
          "height": 564
        }
      },
      "source": [
        "for epoch in range(N_EPOCHS):\n",
        "    \n",
        "    start_time = time.time()\n",
        "    \n",
        "    train_loss = train(model, train_iterator, optimizer, criterion, CLIP, train_history, valid_history)\n",
        "    valid_loss = evaluate(model, valid_iterator, criterion)\n",
        "    \n",
        "    end_time = time.time()\n",
        "    \n",
        "    epoch_mins, epoch_secs = epoch_time(start_time, end_time)\n",
        "    \n",
        "    if valid_loss < best_valid_loss:\n",
        "        best_valid_loss = valid_loss\n",
        "        torch.save(model.state_dict(), 'tut2-model.pt')\n",
        "    \n",
        "    train_history.append(train_loss)\n",
        "    valid_history.append(valid_loss)\n",
        "    print(f'Epoch: {epoch+1:02} | Time: {epoch_mins}m {epoch_secs}s')\n",
        "    print(f'\\tTrain Loss: {train_loss:.3f} | Train PPL: {math.exp(train_loss):7.3f}')\n",
        "    print(f'\\t Val. Loss: {valid_loss:.3f} |  Val. PPL: {math.exp(valid_loss):7.3f}')"
      ],
      "execution_count": 26,
      "outputs": [
        {
          "output_type": "display_data",
          "data": {
            "image/png": "[encoded data removed]",
            "text/plain": [
              "<Figure size 864x576 with 2 Axes>"
            ]
          },
          "metadata": {
            "tags": []
          }
        },
        {
          "output_type": "stream",
          "text": [
            "Epoch: 07 | Time: 3m 41s\n",
            "\tTrain Loss: 2.564 | Train PPL:  12.989\n",
            "\t Val. Loss: 4.918 |  Val. PPL: 136.666\n"
          ],
          "name": "stdout"
        }
      ]
    },
    {
      "cell_type": "code",
      "metadata": {
        "id": "qWpx_2fbLzvj",
        "colab_type": "code",
        "colab": {
          "base_uri": "https://localhost:8080/",
          "height": 34
        },
        "outputId": "c7a90c4a-7425-4ac5-9968-c5a28b697780"
      },
      "source": [
        "original_text = []\n",
        "generated_text = []\n",
        "model.eval()\n",
        "with torch.no_grad():\n",
        "\n",
        "    for i, batch in tqdm.tqdm(enumerate(test_iterator)):\n",
        "\n",
        "        src = batch.src\n",
        "        trg = batch.trg\n",
        "\n",
        "        output = model(src, trg, 0) #turn off teacher forcing\n",
        "\n",
        "        #trg = [trg sent len, batch size]\n",
        "        #output = [trg sent len, batch size, output dim]\n",
        "\n",
        "        output = output.argmax(dim=-1)\n",
        "        \n",
        "        original_text.extend([get_text(x, TRG.vocab) for x in trg.cpu().numpy().T])\n",
        "        generated_text.extend([get_text(x, TRG.vocab) for x in output.detach().cpu().numpy().T])\n",
        "\n",
        "# original_text = flatten(original_text)\n",
        "# generated_text = flatten(generated_text)"
      ],
      "execution_count": 30,
      "outputs": [
        {
          "output_type": "stream",
          "text": [
            "55it [00:06,  8.47it/s]\n"
          ],
          "name": "stderr"
        }
      ]
    },
    {
      "cell_type": "code",
      "metadata": {
        "id": "NM9KRSUeL_3D",
        "colab_type": "code",
        "colab": {
          "base_uri": "https://localhost:8080/",
          "height": 34
        },
        "outputId": "f7e37f0e-7f20-4d4c-8592-92383fbae1e4"
      },
      "source": [
        "corpus_bleu([[text] for text in original_text], generated_text) * 100"
      ],
      "execution_count": 31,
      "outputs": [
        {
          "output_type": "execute_result",
          "data": {
            "text/plain": [
              "19.80761030971558"
            ]
          },
          "metadata": {
            "tags": []
          },
          "execution_count": 31
        }
      ]
    }
  ]
}